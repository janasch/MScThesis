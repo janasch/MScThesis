{
 "cells": [
  {
   "cell_type": "markdown",
   "metadata": {},
   "source": [
    "# Experiments"
   ]
  },
  {
   "cell_type": "code",
   "execution_count": 1,
   "metadata": {},
   "outputs": [],
   "source": [
    "import math\n",
    "import matplotlib.pyplot as plt \n",
    "import main\n",
    "import datareader as dr\n",
    "cm_blue = plt.get_cmap('Blues')\n",
    "cm_green = plt.get_cmap('Greens')\n"
   ]
  },
  {
   "cell_type": "code",
   "execution_count": 2,
   "metadata": {},
   "outputs": [
    {
     "name": "stdout",
     "output_type": "stream",
     "text": [
      "JSIM matrix size 2112 2112\n",
      "JSIM matrix size 1892 1892\n"
     ]
    }
   ],
   "source": [
    "data_ml, JSim_ml = main.setup('movielens.dat')\n",
    "data_lfm, JSim_lfm = main.setup('lastfm.dat')"
   ]
  },
  {
   "cell_type": "markdown",
   "metadata": {},
   "source": [
    "# MSE-delta with different Eps (Movielens)"
   ]
  },
  {
   "cell_type": "code",
   "execution_count": 3,
   "metadata": {},
   "outputs": [
    {
     "name": "stdout",
     "output_type": "stream",
     "text": [
      "\n",
      "Generating hash signatures based on Riazzi Extension, using next_prime 2147483647 and eps = 1\n",
      "Riazzi\n",
      "theoretical jacc  0.95\n",
      "sensi:  14.522337530589331  eps:  1  delta:  5.615453131439359e-06\n",
      "Done hashing\n",
      "\n",
      "Generating MinHash signatures took 183.64sec\n",
      "\n",
      "Generating hash signatures based on Riazzi Extension, using next_prime 2147483647 and eps = 1\n",
      "Riazzi\n",
      "theoretical jacc  0.95\n",
      "sensi:  13.567702366971831  eps:  1  delta:  5.6154531314393596e-05\n",
      "Done hashing\n",
      "\n",
      "Generating MinHash signatures took 185.94sec\n",
      "\n",
      "Generating hash signatures based on Riazzi Extension, using next_prime 2147483647 and eps = 1\n",
      "Riazzi\n",
      "theoretical jacc  0.95\n",
      "sensi:  12.492405198036167  eps:  1  delta:  0.0005615453131439358\n",
      "Done hashing\n",
      "\n",
      "Generating MinHash signatures took 182.16sec\n",
      "\n",
      "Generating hash signatures based on Riazzi Extension, using next_prime 2147483647 and eps = 1\n",
      "Riazzi\n",
      "theoretical jacc  0.95\n",
      "sensi:  11.234320127656582  eps:  1  delta:  0.005615453131439359\n",
      "Done hashing\n",
      "\n",
      "Generating MinHash signatures took 181.53sec\n",
      "\n",
      "Generating hash signatures based on Riazzi Extension, using next_prime 2147483647 and eps = 5\n",
      "Riazzi\n",
      "theoretical jacc  0.95\n",
      "sensi:  14.522337530589331  eps:  5  delta:  5.615453131439359e-06\n",
      "Done hashing\n",
      "\n",
      "Generating MinHash signatures took 185.54sec\n",
      "\n",
      "Generating hash signatures based on Riazzi Extension, using next_prime 2147483647 and eps = 5\n",
      "Riazzi\n",
      "theoretical jacc  0.95\n",
      "sensi:  13.567702366971831  eps:  5  delta:  5.6154531314393596e-05\n",
      "Done hashing\n",
      "\n",
      "Generating MinHash signatures took 190.85sec\n",
      "\n",
      "Generating hash signatures based on Riazzi Extension, using next_prime 2147483647 and eps = 5\n",
      "Riazzi\n",
      "theoretical jacc  0.95\n",
      "sensi:  12.492405198036167  eps:  5  delta:  0.0005615453131439358\n",
      "Done hashing\n",
      "\n",
      "Generating MinHash signatures took 189.33sec\n",
      "\n",
      "Generating hash signatures based on Riazzi Extension, using next_prime 2147483647 and eps = 5\n",
      "Riazzi\n",
      "theoretical jacc  0.95\n",
      "sensi:  11.234320127656582  eps:  5  delta:  0.005615453131439359\n",
      "Done hashing\n",
      "\n",
      "Generating MinHash signatures took 193.49sec\n",
      "\n",
      "Generating hash signatures based on Riazzi Extension, using next_prime 2147483647 and eps = 20\n",
      "Riazzi\n",
      "theoretical jacc  0.95\n",
      "sensi:  14.522337530589331  eps:  20  delta:  5.615453131439359e-06\n",
      "Done hashing\n",
      "\n",
      "Generating MinHash signatures took 183.50sec\n",
      "\n",
      "Generating hash signatures based on Riazzi Extension, using next_prime 2147483647 and eps = 20\n",
      "Riazzi\n",
      "theoretical jacc  0.95\n",
      "sensi:  13.567702366971831  eps:  20  delta:  5.6154531314393596e-05\n",
      "Done hashing\n",
      "\n",
      "Generating MinHash signatures took 183.95sec\n",
      "\n",
      "Generating hash signatures based on Riazzi Extension, using next_prime 2147483647 and eps = 20\n",
      "Riazzi\n",
      "theoretical jacc  0.95\n",
      "sensi:  12.492405198036167  eps:  20  delta:  0.0005615453131439358\n",
      "Done hashing\n",
      "\n",
      "Generating MinHash signatures took 188.97sec\n",
      "\n",
      "Generating hash signatures based on Riazzi Extension, using next_prime 2147483647 and eps = 20\n",
      "Riazzi\n",
      "theoretical jacc  0.95\n",
      "sensi:  11.234320127656582  eps:  20  delta:  0.005615453131439359\n",
      "Done hashing\n",
      "\n",
      "Generating MinHash signatures took 196.45sec\n"
     ]
    },
    {
     "data": {
      "text/plain": [
       "Text(0, 0.5, 'MSE')"
      ]
     },
     "execution_count": 3,
     "metadata": {},
     "output_type": "execute_result"
    },
    {
     "data": {
      "image/png": "[encoded data removed]",
      "text/plain": [
       "<Figure size 432x288 with 1 Axes>"
      ]
     },
     "metadata": {
      "needs_background": "light"
     },
     "output_type": "display_data"
    }
   ],
   "source": [
    "K = 1\n",
    "Eps = [1,5,20]\n",
    "l = 100\n",
    "alpha = 1\n",
    "runs=1\n",
    "C = [1000, 100, 10, 1]\n",
    "A = dr.avg_set_size(data_ml)\n",
    "Deltas = [1/(c*A) for c in C]\n",
    "fig_ML, ax_ML = plt.subplots()\n",
    "exp_mech = False\n",
    "\n",
    "\n",
    "for eps in Eps:\n",
    "    MSE_ML = []\n",
    "    #MSE_LFM = []\n",
    "    for delta in Deltas:\n",
    "        temp_ML = 0\n",
    "        for i in range(runs):\n",
    "            # Movielens\n",
    "            analysis_ml = main.main(data_ml, JSim_ml, 'noisy', K, l= l, delta= delta, alpha= alpha, eps=eps)\n",
    "            MSE = analysis_ml.MSE()\n",
    "            temp_ML += (MSE/runs)\n",
    "            \n",
    "        MSE_ML.append(temp_ML)\n",
    "        \n",
    "    lab = r'$\\epsilon$ = ' + str(eps)\n",
    "    ax_ML.plot(Deltas, MSE_ML, label = lab)\n",
    "\n",
    "ax_ML.set_xlim([Deltas[0], Deltas[-1]])\n",
    "ax_ML.legend()\n",
    "ax_ML.set_xlabel(r'$\\delta$')\n",
    "ax_ML.set_ylabel('MSE')\n"
   ]
  },
  {
   "cell_type": "code",
   "execution_count": null,
   "metadata": {},
   "outputs": [],
   "source": [
    "data, JSim = data_lfm, JSim_lfm\n",
    "\n",
    "K = 1\n",
    "Eps = [1,5,20]\n",
    "l = 100\n",
    "alpha = 1\n",
    "runs=1\n",
    "C = [1000, 100, 10, 1]\n",
    "A = dr.avg_set_size(data)\n",
    "Deltas = [1/(c*A) for c in C]\n",
    "fig, ax = plt.subplots()\n",
    "exp_mech = False\n",
    "\n",
    "\n",
    "for eps in Eps:\n",
    "    MSE = []\n",
    "    for delta in Deltas:\n",
    "        temp = 0\n",
    "        for i in range(runs):\n",
    "            # lastFM\n",
    "            analysis = main.main(data, JSim, 'noisy', K, l= l, delta= delta, alpha= alpha, eps=eps)\n",
    "            MSE = analysis.MSE()\n",
    "            temp += (MSE/runs)\n",
    "            \n",
    "        MSE.append(temp)\n",
    "        \n",
    "    lab = r'$\\epsilon$ = ' + str(eps)\n",
    "    ax.plot(Deltas, MSE, label = lab)\n",
    "\n",
    "ax.set_xlim([Deltas[0], Deltas[-1]])\n",
    "ax.legend()\n",
    "ax.set_xlabel(r'$\\delta$')\n",
    "ax.set_ylabel('MSE')"
   ]
  },
  {
   "cell_type": "markdown",
   "metadata": {},
   "source": [
    "## MSE Buckets Lastfm"
   ]
  },
  {
   "cell_type": "code",
   "execution_count": 19,
   "metadata": {},
   "outputs": [],
   "source": [
    "num_hashes = 100\n",
    "runs = 1\n",
    "Eps = [10, 50, 200]\n",
    "exp_mech = False\n",
    "\n",
    "data, JSim = data_lfm, JSim_lfm"
   ]
  },
  {
   "cell_type": "code",
   "execution_count": 20,
   "metadata": {},
   "outputs": [
    {
     "name": "stdout",
     "output_type": "stream",
     "text": [
      "\n",
      "Generating hash signatures based on Yan extension, using next_prime 2147483647 and eps = 10\n",
      "max =  18737\n",
      "num_buckets:  2\n",
      "Done hashing\n",
      "\n",
      "Generating MinHash signatures took 21.38sec\n",
      "\n",
      "Generating hash signatures based on Yan extension, using next_prime 2147483647 and eps = 50\n",
      "max =  18737\n",
      "num_buckets:  2\n",
      "Done hashing\n",
      "\n",
      "Generating MinHash signatures took 21.07sec\n",
      "\n",
      "Generating hash signatures based on Yan extension, using next_prime 2147483647 and eps = 200\n",
      "max =  18737\n",
      "num_buckets:  2\n",
      "Done hashing\n",
      "\n",
      "Generating MinHash signatures took 21.28sec\n",
      "\n",
      "Generating hash signatures based on Yan extension, using next_prime 2147483647 and eps = 10\n",
      "max =  18737\n",
      "num_buckets:  8\n",
      "Done hashing\n",
      "\n",
      "Generating MinHash signatures took 24.27sec\n",
      "\n",
      "Generating hash signatures based on Yan extension, using next_prime 2147483647 and eps = 50\n",
      "max =  18737\n",
      "num_buckets:  8\n",
      "Done hashing\n",
      "\n",
      "Generating MinHash signatures took 22.49sec\n",
      "\n",
      "Generating hash signatures based on Yan extension, using next_prime 2147483647 and eps = 200\n",
      "max =  18737\n",
      "num_buckets:  8\n",
      "Done hashing\n",
      "\n",
      "Generating MinHash signatures took 21.85sec\n"
     ]
    },
    {
     "data": {
      "text/plain": [
       "Text(0, 0.5, 'MSE')"
      ]
     },
     "execution_count": 20,
     "metadata": {},
     "output_type": "execute_result"
    },
    {
     "data": {
      "image/png": "[encoded data removed]",
      "text/plain": [
       "<Figure size 432x288 with 1 Axes>"
      ]
     },
     "metadata": {
      "needs_background": "light"
     },
     "output_type": "display_data"
    }
   ],
   "source": [
    "#buckets = [x for x in range(2, 9, 2)]\n",
    "buckets = [2, 8]\n",
    "fig, ax = plt.subplots()\n",
    "K = num_hashes\n",
    "\n",
    "for bucket in buckets:\n",
    "    MSEs = []\n",
    "    for eps in Eps:\n",
    "        temp = 0\n",
    "        for i in range(runs):\n",
    "            analysis_ml = main.main(data, JSim, 'bucket', K, eps=eps, num_buckets=bucket)\n",
    "            MSE = analysis.MSE()\n",
    "            temp += (MSE/runs)\n",
    "            \n",
    "        MSEs.append(temp)\n",
    "        \n",
    "    lab = 'buckets = ' + str(bucket)\n",
    "    ax.plot(Eps, MSEs, label = lab)\n",
    "\n",
    "ax.set_xlim([Eps[0], Eps[-1]])\n",
    "ax.legend()\n",
    "ax.set_xlabel(r'$\\epsilon$')\n",
    "ax.set_ylabel('MSE')"
   ]
  },
  {
   "cell_type": "code",
   "execution_count": null,
   "metadata": {},
   "outputs": [],
   "source": []
  },
  {
   "cell_type": "markdown",
   "metadata": {},
   "source": [
    "# joint plot"
   ]
  },
  {
   "cell_type": "code",
   "execution_count": null,
   "metadata": {},
   "outputs": [],
   "source": []
  },
  {
   "cell_type": "code",
   "execution_count": 4,
   "metadata": {},
   "outputs": [],
   "source": [
    "num_hashes = 100\n",
    "runs = 1\n",
    "Eps = [10, 50, 100]\n",
    "exp_mech = False\n",
    "\n",
    "data, JSim = data_ml, JSim_ml"
   ]
  },
  {
   "cell_type": "code",
   "execution_count": 5,
   "metadata": {},
   "outputs": [
    {
     "name": "stdout",
     "output_type": "stream",
     "text": [
      "\n",
      "Generating hash signatures based on Yan extension, using next_prime 2147483647 and eps = 10\n",
      "max =  65133\n",
      "num_buckets:  2\n",
      "Exponential Mechanism:  False\n",
      "Done hashing\n"
     ]
    },
    {
     "ename": "TypeError",
     "evalue": "'float' object is not callable",
     "output_type": "error",
     "traceback": [
      "\u001b[0;31m---------------------------------------------------------------------------\u001b[0m",
      "\u001b[0;31mTypeError\u001b[0m                                 Traceback (most recent call last)",
      "\u001b[0;32m<ipython-input-5-8b98bb1cffe7>\u001b[0m in \u001b[0;36m<module>\u001b[0;34m()\u001b[0m\n\u001b[1;32m     10\u001b[0m         \u001b[0mtemp\u001b[0m \u001b[0;34m=\u001b[0m \u001b[0;36m0\u001b[0m\u001b[0;34m\u001b[0m\u001b[0;34m\u001b[0m\u001b[0m\n\u001b[1;32m     11\u001b[0m         \u001b[0;32mfor\u001b[0m \u001b[0mi\u001b[0m \u001b[0;32min\u001b[0m \u001b[0mrange\u001b[0m\u001b[0;34m(\u001b[0m\u001b[0mruns\u001b[0m\u001b[0;34m)\u001b[0m\u001b[0;34m:\u001b[0m\u001b[0;34m\u001b[0m\u001b[0;34m\u001b[0m\u001b[0m\n\u001b[0;32m---> 12\u001b[0;31m             \u001b[0manalysis\u001b[0m \u001b[0;34m=\u001b[0m \u001b[0mmain\u001b[0m\u001b[0;34m.\u001b[0m\u001b[0mmain\u001b[0m\u001b[0;34m(\u001b[0m\u001b[0mdata\u001b[0m\u001b[0;34m,\u001b[0m \u001b[0mJSim\u001b[0m\u001b[0;34m,\u001b[0m \u001b[0;34m'bucket'\u001b[0m\u001b[0;34m,\u001b[0m \u001b[0mK\u001b[0m\u001b[0;34m,\u001b[0m \u001b[0meps\u001b[0m\u001b[0;34m=\u001b[0m\u001b[0meps\u001b[0m\u001b[0;34m,\u001b[0m \u001b[0mnum_buckets\u001b[0m\u001b[0;34m=\u001b[0m\u001b[0mbucket\u001b[0m\u001b[0;34m)\u001b[0m\u001b[0;34m\u001b[0m\u001b[0;34m\u001b[0m\u001b[0m\n\u001b[0m\u001b[1;32m     13\u001b[0m             \u001b[0mMSE\u001b[0m \u001b[0;34m=\u001b[0m \u001b[0manalysis\u001b[0m\u001b[0;34m.\u001b[0m\u001b[0mMSE\u001b[0m\u001b[0;34m(\u001b[0m\u001b[0;34m)\u001b[0m\u001b[0;34m\u001b[0m\u001b[0;34m\u001b[0m\u001b[0m\n\u001b[1;32m     14\u001b[0m             \u001b[0mtemp\u001b[0m \u001b[0;34m+=\u001b[0m \u001b[0;34m(\u001b[0m\u001b[0mMSE\u001b[0m\u001b[0;34m/\u001b[0m\u001b[0mruns\u001b[0m\u001b[0;34m)\u001b[0m\u001b[0;34m\u001b[0m\u001b[0;34m\u001b[0m\u001b[0m\n",
      "\u001b[0;32m~/ITU/ITU_sem4/Thesis/Thesis/Implementation/main.py\u001b[0m in \u001b[0;36mmain\u001b[0;34m(data, JSim, minhash_type, num_hashes, eps, delta, l, b, alpha, num_buckets)\u001b[0m\n\u001b[1;32m     98\u001b[0m \u001b[0;32mdef\u001b[0m \u001b[0mmain\u001b[0m\u001b[0;34m(\u001b[0m\u001b[0mdata\u001b[0m\u001b[0;34m,\u001b[0m \u001b[0mJSim\u001b[0m\u001b[0;34m,\u001b[0m \u001b[0mminhash_type\u001b[0m\u001b[0;34m,\u001b[0m \u001b[0mnum_hashes\u001b[0m\u001b[0;34m,\u001b[0m \u001b[0meps\u001b[0m\u001b[0;34m=\u001b[0m\u001b[0;32mNone\u001b[0m\u001b[0;34m,\u001b[0m \u001b[0mdelta\u001b[0m \u001b[0;34m=\u001b[0m \u001b[0;32mNone\u001b[0m\u001b[0;34m,\u001b[0m \u001b[0ml\u001b[0m\u001b[0;34m=\u001b[0m\u001b[0;32mNone\u001b[0m\u001b[0;34m,\u001b[0m \u001b[0mb\u001b[0m\u001b[0;34m=\u001b[0m\u001b[0;32mNone\u001b[0m\u001b[0;34m,\u001b[0m \u001b[0malpha\u001b[0m\u001b[0;34m=\u001b[0m\u001b[0;32mNone\u001b[0m\u001b[0;34m,\u001b[0m \u001b[0mnum_buckets\u001b[0m\u001b[0;34m=\u001b[0m\u001b[0;32mNone\u001b[0m\u001b[0;34m)\u001b[0m\u001b[0;34m:\u001b[0m\u001b[0;34m\u001b[0m\u001b[0;34m\u001b[0m\u001b[0m\n\u001b[1;32m     99\u001b[0m \u001b[0;34m\u001b[0m\u001b[0m\n\u001b[0;32m--> 100\u001b[0;31m     \u001b[0muser_to_sig\u001b[0m\u001b[0;34m,\u001b[0m \u001b[0mest_JSim\u001b[0m \u001b[0;34m=\u001b[0m \u001b[0mhashing\u001b[0m\u001b[0;34m(\u001b[0m\u001b[0mdata\u001b[0m\u001b[0;34m,\u001b[0m \u001b[0mnum_hashes\u001b[0m\u001b[0;34m,\u001b[0m \u001b[0meps\u001b[0m\u001b[0;34m,\u001b[0m \u001b[0mminhash_type\u001b[0m\u001b[0;34m,\u001b[0m \u001b[0ml\u001b[0m\u001b[0;34m,\u001b[0m \u001b[0mb\u001b[0m\u001b[0;34m,\u001b[0m \u001b[0malpha\u001b[0m\u001b[0;34m,\u001b[0m \u001b[0mdelta\u001b[0m\u001b[0;34m,\u001b[0m \u001b[0mnum_buckets\u001b[0m\u001b[0;34m)\u001b[0m\u001b[0;34m\u001b[0m\u001b[0;34m\u001b[0m\u001b[0m\n\u001b[0m\u001b[1;32m    101\u001b[0m \u001b[0;34m\u001b[0m\u001b[0m\n\u001b[1;32m    102\u001b[0m     \u001b[0;31m#run_analysis(user_to_sig, JSim, est_JSim, neighbours)\u001b[0m\u001b[0;34m\u001b[0m\u001b[0;34m\u001b[0m\u001b[0;34m\u001b[0m\u001b[0m\n",
      "\u001b[0;32m~/ITU/ITU_sem4/Thesis/Thesis/Implementation/main.py\u001b[0m in \u001b[0;36mhashing\u001b[0;34m(data, num_hashes, eps, minhash_type, l, b, alpha, delta, num_buckets)\u001b[0m\n\u001b[1;32m     47\u001b[0m         \u001b[0myan_ext\u001b[0m \u001b[0;34m=\u001b[0m \u001b[0mbucket_privmin\u001b[0m\u001b[0;34m.\u001b[0m\u001b[0mBucket_PrivMin\u001b[0m\u001b[0;34m(\u001b[0m\u001b[0mnum_hashes\u001b[0m\u001b[0;34m,\u001b[0m \u001b[0mdata\u001b[0m\u001b[0;34m,\u001b[0m \u001b[0meps\u001b[0m\u001b[0;34m,\u001b[0m \u001b[0mnum_buckets\u001b[0m\u001b[0;34m,\u001b[0m \u001b[0;32mFalse\u001b[0m\u001b[0;34m)\u001b[0m\u001b[0;34m\u001b[0m\u001b[0;34m\u001b[0m\u001b[0m\n\u001b[1;32m     48\u001b[0m         \u001b[0muser_to_sig\u001b[0m \u001b[0;34m=\u001b[0m \u001b[0myan_ext\u001b[0m\u001b[0;34m.\u001b[0m\u001b[0mgenerate_minHash_sigs\u001b[0m\u001b[0;34m(\u001b[0m\u001b[0;34m)\u001b[0m\u001b[0;34m\u001b[0m\u001b[0;34m\u001b[0m\u001b[0m\n\u001b[0;32m---> 49\u001b[0;31m         \u001b[0mestJSim\u001b[0m \u001b[0;34m=\u001b[0m \u001b[0manal\u001b[0m\u001b[0;34m.\u001b[0m\u001b[0mset_estJSim\u001b[0m\u001b[0;34m(\u001b[0m\u001b[0myan_ext\u001b[0m\u001b[0;34m,\u001b[0m \u001b[0muser_to_sig\u001b[0m\u001b[0;34m)\u001b[0m\u001b[0;34m\u001b[0m\u001b[0;34m\u001b[0m\u001b[0m\n\u001b[0m\u001b[1;32m     50\u001b[0m \u001b[0;34m\u001b[0m\u001b[0m\n\u001b[1;32m     51\u001b[0m \u001b[0;34m\u001b[0m\u001b[0m\n",
      "\u001b[0;32m~/ITU/ITU_sem4/Thesis/Thesis/Implementation/analysis.py\u001b[0m in \u001b[0;36mset_estJSim\u001b[0;34m(MH_algo, user_to_sig)\u001b[0m\n\u001b[1;32m    173\u001b[0m             \u001b[0mid_to_idx\u001b[0m\u001b[0;34m[\u001b[0m\u001b[0mother_user\u001b[0m\u001b[0;34m]\u001b[0m \u001b[0;34m=\u001b[0m \u001b[0mother_counter\u001b[0m\u001b[0;34m\u001b[0m\u001b[0;34m\u001b[0m\u001b[0m\n\u001b[1;32m    174\u001b[0m \u001b[0;34m\u001b[0m\u001b[0m\n\u001b[0;32m--> 175\u001b[0;31m             \u001b[0mestJSim\u001b[0m\u001b[0;34m[\u001b[0m\u001b[0mcounter\u001b[0m\u001b[0;34m]\u001b[0m\u001b[0;34m[\u001b[0m\u001b[0mother_counter\u001b[0m\u001b[0;34m]\u001b[0m \u001b[0;34m=\u001b[0m \u001b[0mMH_algo\u001b[0m\u001b[0;34m.\u001b[0m\u001b[0mcalc_est_Jacc\u001b[0m\u001b[0;34m(\u001b[0m\u001b[0muser_to_sig\u001b[0m\u001b[0;34m[\u001b[0m\u001b[0muser\u001b[0m\u001b[0;34m]\u001b[0m\u001b[0;34m,\u001b[0m \u001b[0muser_to_sig\u001b[0m\u001b[0;34m[\u001b[0m\u001b[0mother_user\u001b[0m\u001b[0;34m]\u001b[0m\u001b[0;34m)\u001b[0m\u001b[0;34m\u001b[0m\u001b[0;34m\u001b[0m\u001b[0m\n\u001b[0m\u001b[1;32m    176\u001b[0m     \u001b[0;32mreturn\u001b[0m \u001b[0mestJSim\u001b[0m\u001b[0;34m\u001b[0m\u001b[0;34m\u001b[0m\u001b[0m\n\u001b[1;32m    177\u001b[0m \u001b[0;34m\u001b[0m\u001b[0m\n",
      "\u001b[0;32m~/ITU/ITU_sem4/Thesis/Thesis/Implementation/algorithms/bucket_privmin.py\u001b[0m in \u001b[0;36mcalc_est_Jacc\u001b[0;34m(self, sig, other_sig)\u001b[0m\n\u001b[1;32m    107\u001b[0m     \u001b[0mnon_col_prob\u001b[0m \u001b[0;34m=\u001b[0m \u001b[0;36m1\u001b[0m \u001b[0;34m-\u001b[0m \u001b[0mcol_prob\u001b[0m\u001b[0;34m\u001b[0m\u001b[0;34m\u001b[0m\u001b[0m\n\u001b[1;32m    108\u001b[0m     \u001b[0mb\u001b[0m \u001b[0;34m=\u001b[0m \u001b[0mself\u001b[0m\u001b[0;34m.\u001b[0m\u001b[0mrange\u001b[0m\u001b[0;34m\u001b[0m\u001b[0;34m\u001b[0m\u001b[0m\n\u001b[0;32m--> 109\u001b[0;31m     \u001b[0mest_Jacc\u001b[0m \u001b[0;34m=\u001b[0m \u001b[0;34m(\u001b[0m\u001b[0;34m(\u001b[0m\u001b[0mb\u001b[0m\u001b[0;34m*\u001b[0m \u001b[0mcollisions\u001b[0m\u001b[0;34m)\u001b[0m \u001b[0;34m-\u001b[0m \u001b[0;34m(\u001b[0m\u001b[0mnon_col_prob\u001b[0m \u001b[0;34m(\u001b[0m\u001b[0;36m2\u001b[0m \u001b[0;34m*\u001b[0m \u001b[0mcol_prob\u001b[0m\u001b[0;34m*\u001b[0m\u001b[0mnon_col_prob\u001b[0m\u001b[0;34m)\u001b[0m\u001b[0;34m)\u001b[0m\u001b[0;34m)\u001b[0m\u001b[0;34m/\u001b[0m\u001b[0;34m(\u001b[0m\u001b[0mself\u001b[0m\u001b[0;34m.\u001b[0m\u001b[0mnum_hashes\u001b[0m\u001b[0;34m*\u001b[0m\u001b[0mb\u001b[0m\u001b[0;34m*\u001b[0m \u001b[0mcol_prob\u001b[0m\u001b[0;34m**\u001b[0m\u001b[0;36m2\u001b[0m\u001b[0;34m)\u001b[0m\u001b[0;34m\u001b[0m\u001b[0;34m\u001b[0m\u001b[0m\n\u001b[0m\u001b[1;32m    110\u001b[0m     \u001b[0;32mreturn\u001b[0m \u001b[0mest_Jacc\u001b[0m\u001b[0;34m\u001b[0m\u001b[0;34m\u001b[0m\u001b[0m\n\u001b[1;32m    111\u001b[0m \u001b[0;34m\u001b[0m\u001b[0m\n",
      "\u001b[0;31mTypeError\u001b[0m: 'float' object is not callable"
     ]
    },
    {
     "data": {
      "image/png": "[encoded data removed]",
      "text/plain": [
       "<Figure size 432x288 with 1 Axes>"
      ]
     },
     "metadata": {
      "needs_background": "light"
     },
     "output_type": "display_data"
    }
   ],
   "source": [
    "# bucket\n",
    "#buckets = [x for x in range(2, 9, 2)]\n",
    "buckets = [2, 4, 8, 12]\n",
    "fig, ax = plt.subplots()\n",
    "K = num_hashes\n",
    "\n",
    "for bucket in buckets:\n",
    "    MSEs = []\n",
    "    for eps in Eps:\n",
    "        temp = 0\n",
    "        for i in range(runs):\n",
    "            analysis = main.main(data, JSim, 'bucket', K, eps=eps, num_buckets=bucket)\n",
    "            MSE = analysis.MSE()\n",
    "            temp += (MSE/runs)   \n",
    "        MSEs.append(temp)  \n",
    "    lab = 'buckets = ' + str(bucket)\n",
    "    ax.plot(Eps, MSEs, label = lab)\n",
    "\n",
    "ax.set_xlim([Eps[0], Eps[-1]])\n",
    "ax.legend()\n",
    "ax.set_xlabel(r'$\\epsilon$')\n",
    "ax.set_ylabel('MSE')"
   ]
  },
  {
   "cell_type": "code",
   "execution_count": 4,
   "metadata": {},
   "outputs": [
    {
     "name": "stdout",
     "output_type": "stream",
     "text": [
      "\n",
      "Generating hash signatures based on Yan extension, using next_prime 2147483647 and eps = 10\n",
      "max =  65133\n",
      "num_buckets:  2\n",
      "Done hashing\n",
      "\n",
      "Generating MinHash signatures took 44.59sec\n",
      "\n",
      "Generating hash signatures based on Yan extension, using next_prime 2147483647 and eps = 50\n",
      "max =  65133\n",
      "num_buckets:  2\n",
      "Done hashing\n",
      "\n",
      "Generating MinHash signatures took 45.29sec\n",
      "\n",
      "Generating hash signatures based on Yan extension, using next_prime 2147483647 and eps = 100\n",
      "max =  65133\n",
      "num_buckets:  2\n",
      "Done hashing\n",
      "\n",
      "Generating MinHash signatures took 44.45sec\n",
      "\n",
      "Generating hash signatures based on Yan extension, using next_prime 2147483647 and eps = 200\n",
      "max =  65133\n",
      "num_buckets:  2\n",
      "Done hashing\n",
      "\n",
      "Generating MinHash signatures took 43.84sec\n",
      "\n",
      "Generating hash signatures based on Yan extension, using next_prime 2147483647 and eps = 10\n",
      "max =  65133\n",
      "num_buckets:  4\n",
      "Done hashing\n",
      "\n",
      "Generating MinHash signatures took 46.30sec\n",
      "\n",
      "Generating hash signatures based on Yan extension, using next_prime 2147483647 and eps = 50\n",
      "max =  65133\n",
      "num_buckets:  4\n",
      "Done hashing\n",
      "\n",
      "Generating MinHash signatures took 45.55sec\n",
      "\n",
      "Generating hash signatures based on Yan extension, using next_prime 2147483647 and eps = 100\n",
      "max =  65133\n",
      "num_buckets:  4\n",
      "Done hashing\n",
      "\n",
      "Generating MinHash signatures took 47.69sec\n",
      "\n",
      "Generating hash signatures based on Yan extension, using next_prime 2147483647 and eps = 200\n",
      "max =  65133\n",
      "num_buckets:  4\n",
      "Done hashing\n",
      "\n",
      "Generating MinHash signatures took 46.26sec\n",
      "\n",
      "Generating hash signatures based on Yan extension, using next_prime 2147483647 and eps = 10\n",
      "max =  65133\n",
      "num_buckets:  8\n",
      "Done hashing\n",
      "\n",
      "Generating MinHash signatures took 47.57sec\n",
      "\n",
      "Generating hash signatures based on Yan extension, using next_prime 2147483647 and eps = 50\n",
      "max =  65133\n",
      "num_buckets:  8\n",
      "Done hashing\n",
      "\n",
      "Generating MinHash signatures took 53.79sec\n",
      "\n",
      "Generating hash signatures based on Yan extension, using next_prime 2147483647 and eps = 100\n",
      "max =  65133\n",
      "num_buckets:  8\n",
      "Done hashing\n",
      "\n",
      "Generating MinHash signatures took 47.47sec\n",
      "\n",
      "Generating hash signatures based on Yan extension, using next_prime 2147483647 and eps = 200\n",
      "max =  65133\n",
      "num_buckets:  8\n",
      "Done hashing\n",
      "\n",
      "Generating MinHash signatures took 48.25sec\n"
     ]
    },
    {
     "data": {
      "text/plain": [
       "Text(0, 0.5, 'MSE')"
      ]
     },
     "execution_count": 4,
     "metadata": {},
     "output_type": "execute_result"
    },
    {
     "data": {
      "image/png": "[encoded data removed]",
      "text/plain": [
       "<Figure size 432x288 with 1 Axes>"
      ]
     },
     "metadata": {
      "needs_background": "light"
     },
     "output_type": "display_data"
    }
   ],
   "source": [
    "# bucket\n",
    "#buckets = [x for x in range(2, 9, 2)]\n",
    "buckets = [2, 4, 8]\n",
    "fig, ax = plt.subplots()\n",
    "K = num_hashes\n",
    "\n",
    "for bucket in buckets:\n",
    "    MSEs = []\n",
    "    for eps in Eps:\n",
    "        temp = 0\n",
    "        for i in range(runs):\n",
    "            analysis = main.main(data, JSim, 'bucket', K, eps=eps, num_buckets=bucket)\n",
    "            MSE = analysis.MSE()\n",
    "            temp += (MSE/runs)   \n",
    "        MSEs.append(temp)  \n",
    "    lab = 'buckets = ' + str(bucket)\n",
    "    ax.plot(Eps, MSEs, label = lab)\n",
    "\n",
    "ax.set_xlim([Eps[0], Eps[-1]])\n",
    "ax.legend()\n",
    "ax.set_xlabel(r'$\\epsilon$')\n",
    "ax.set_ylabel('MSE')"
   ]
  },
  {
   "cell_type": "code",
   "execution_count": null,
   "metadata": {},
   "outputs": [],
   "source": [
    "#noisy\n",
    "\n",
    "K = 1\n",
    "l = num_hashes\n",
    "alpha = 1\n",
    "C = [1000, 100, 10, 1]\n",
    "A = dr.avg_set_size(data)\n",
    "Deltas = [1/(c*A) for c in C]\n",
    "\n",
    "fig, ax = plt.subplots()\n",
    "\n",
    "\n",
    "for delta in Deltas:\n",
    "    MSEs = []\n",
    "    for eps in Eps:\n",
    "        temp = 0\n",
    "        for i in range(runs):\n",
    "            analysis = main.main(data, JSim, 'noisy', K, l= l, delta= delta, alpha= alpha, eps=eps)\n",
    "            MSE = analysis.MSE()\n",
    "            temp += (MSE/runs)\n",
    "            \n",
    "        MSE.append(temp)\n",
    "        \n",
    "    lab = r'$\\epsilon$ = ' + str(eps)\n",
    "    ax.plot(Deltas, MSE, label = lab)\n",
    "\n",
    "ax.set_xlim([Deltas[0], Deltas[-1]])\n",
    "ax.legend()\n",
    "ax.set_xlabel(r'$\\delta$')\n",
    "ax.set_ylabel('MSE')"
   ]
  },
  {
   "cell_type": "code",
   "execution_count": null,
   "metadata": {},
   "outputs": [],
   "source": []
  },
  {
   "cell_type": "code",
   "execution_count": null,
   "metadata": {},
   "outputs": [],
   "source": [
    "#make plot\n",
    "ax.set_xlim([Eps[0], Eps[-1]])\n",
    "ax.legend()\n",
    "ax.set_xlabel(r'$\\delta$')\n",
    "ax.set_ylabel('MSE')"
   ]
  },
  {
   "cell_type": "code",
   "execution_count": null,
   "metadata": {},
   "outputs": [],
   "source": []
  },
  {
   "cell_type": "markdown",
   "metadata": {},
   "source": [
    "# Recall"
   ]
  },
  {
   "cell_type": "markdown",
   "metadata": {},
   "source": [
    "## Movielens bucket eps/Recall with diff buckets on Movielens"
   ]
  },
  {
   "cell_type": "code",
   "execution_count": 3,
   "metadata": {},
   "outputs": [],
   "source": [
    "num_hashes = 100\n",
    "runs = 1\n",
    "Eps = [10, 200]\n",
    "exp_mech = False\n",
    "\n",
    "data, JSim = data_ml, JSim_ml"
   ]
  },
  {
   "cell_type": "code",
   "execution_count": 4,
   "metadata": {},
   "outputs": [
    {
     "name": "stdout",
     "output_type": "stream",
     "text": [
      "\n",
      "Generating hash signatures based on Yan extension, using next_prime 2147483647 and eps = 10\n",
      "max =  65133\n",
      "num_buckets:  2\n",
      "Done hashing\n",
      "\n",
      "Generating MinHash signatures took 45.27sec\n",
      "\n",
      "Generating hash signatures based on Yan extension, using next_prime 2147483647 and eps = 200\n",
      "max =  65133\n",
      "num_buckets:  2\n",
      "Done hashing\n",
      "\n",
      "Generating MinHash signatures took 43.79sec\n",
      "\n",
      "Generating hash signatures based on Yan extension, using next_prime 2147483647 and eps = 10\n",
      "max =  65133\n",
      "num_buckets:  8\n",
      "Done hashing\n",
      "\n",
      "Generating MinHash signatures took 46.17sec\n",
      "\n",
      "Generating hash signatures based on Yan extension, using next_prime 2147483647 and eps = 200\n",
      "max =  65133\n",
      "num_buckets:  8\n",
      "Done hashing\n",
      "\n",
      "Generating MinHash signatures took 46.67sec\n"
     ]
    },
    {
     "data": {
      "text/plain": [
       "Text(0, 0.5, 'Recall')"
      ]
     },
     "execution_count": 4,
     "metadata": {},
     "output_type": "execute_result"
    },
    {
     "data": {
      "image/png": "[encoded data removed]",
      "text/plain": [
       "<Figure size 432x288 with 1 Axes>"
      ]
     },
     "metadata": {
      "needs_background": "light"
     },
     "output_type": "display_data"
    }
   ],
   "source": [
    "#buckets = [x for x in range(2, 9, 2)]\n",
    "buckets = [2, 8]\n",
    "fig, ax = plt.subplots()\n",
    "K = num_hashes\n",
    "\n",
    "for bucket in buckets:\n",
    "    Recalls = []\n",
    "    for eps in Eps:\n",
    "        temp = 0\n",
    "        for i in range(runs):\n",
    "            analysis = main.main(data, JSim, 'bucket', K, eps=eps, num_buckets=bucket)\n",
    "            prec, rec, f1 = analysis.PRF()\n",
    "            temp += (rec/runs)   \n",
    "        Recalls.append(temp)  \n",
    "    lab = 'buckets = ' + str(bucket)\n",
    "    ax.plot(Eps, Recalls, label = lab)\n",
    "\n",
    "ax.set_xlim([Eps[0], Eps[-1]])\n",
    "ax.legend()\n",
    "ax.set_xlabel(r'$\\epsilon$')\n",
    "ax.set_ylabel('Recall')"
   ]
  },
  {
   "cell_type": "code",
   "execution_count": 9,
   "metadata": {},
   "outputs": [],
   "source": [
    "## noisy eps/Recall with diff delta on Movielens"
   ]
  },
  {
   "cell_type": "code",
   "execution_count": 5,
   "metadata": {},
   "outputs": [],
   "source": [
    "num_hashes = 50\n",
    "runs = 1\n",
    "Eps = [10, 100]\n",
    "exp_mech = False\n",
    "\n",
    "data, JSim = data_ml, JSim_ml"
   ]
  },
  {
   "cell_type": "code",
   "execution_count": 6,
   "metadata": {},
   "outputs": [
    {
     "name": "stdout",
     "output_type": "stream",
     "text": [
      "\n",
      "Generating hash signatures based on Riazzi Extension, using next_prime 2147483647 and eps = 10\n",
      "Riazzi\n",
      "theoretical jacc  0.95\n",
      "sensi:  9.233309440626877  eps:  10  delta:  5.615453131439359e-06\n",
      "Done hashing\n",
      "\n",
      "Generating MinHash signatures took 119.47sec\n",
      "\n",
      "Generating hash signatures based on Riazzi Extension, using next_prime 2147483647 and eps = 100\n",
      "Riazzi\n",
      "theoretical jacc  0.95\n",
      "sensi:  9.233309440626877  eps:  100  delta:  5.615453131439359e-06\n",
      "Done hashing\n",
      "\n",
      "Generating MinHash signatures took 115.26sec\n",
      "\n",
      "Generating hash signatures based on Riazzi Extension, using next_prime 2147483647 and eps = 10\n",
      "Riazzi\n",
      "theoretical jacc  0.95\n",
      "sensi:  6.908330038353751  eps:  10  delta:  0.005615453131439359\n",
      "Done hashing\n",
      "\n",
      "Generating MinHash signatures took 111.24sec\n",
      "\n",
      "Generating hash signatures based on Riazzi Extension, using next_prime 2147483647 and eps = 100\n",
      "Riazzi\n",
      "theoretical jacc  0.95\n",
      "sensi:  6.908330038353751  eps:  100  delta:  0.005615453131439359\n",
      "Done hashing\n",
      "\n",
      "Generating MinHash signatures took 112.74sec\n"
     ]
    },
    {
     "data": {
      "text/plain": [
       "Text(0, 0.5, 'Recall')"
      ]
     },
     "execution_count": 6,
     "metadata": {},
     "output_type": "execute_result"
    },
    {
     "data": {
      "image/png": "[encoded data removed]",
      "text/plain": [
       "<Figure size 432x288 with 1 Axes>"
      ]
     },
     "metadata": {
      "needs_background": "light"
     },
     "output_type": "display_data"
    }
   ],
   "source": [
    "K = 1\n",
    "l = num_hashes\n",
    "alpha = 1\n",
    "C = [1000, 1]\n",
    "A = dr.avg_set_size(data)\n",
    "Deltas = [1/(c*A) for c in C]\n",
    "\n",
    "fig, ax = plt.subplots()\n",
    "\n",
    "\n",
    "for delta in Deltas:\n",
    "    Recalls = []\n",
    "    for eps in Eps:\n",
    "        temp = 0\n",
    "        for i in range(runs):\n",
    "            analysis = main.main(data, JSim, 'noisy', K, l= l, delta= delta, alpha= alpha, eps=eps)\n",
    "            prec, rec, f1 = analysis.PRF()\n",
    "            temp += (rec/runs)   \n",
    "        Recalls.append(temp)  \n",
    "    lab = r'$\\delta$ = ' + str(format(delta, '.2f'))\n",
    "    ax.plot(Eps, Recalls, label = lab)\n",
    "\n",
    "ax.set_xlim([Eps[0], Eps[-1]])\n",
    "ax.legend()\n",
    "ax.set_xlabel(r'$\\epsilon$')\n",
    "ax.set_ylabel('Recall')"
   ]
  },
  {
   "cell_type": "markdown",
   "metadata": {},
   "source": [
    "##  Recall on LastFM"
   ]
  },
  {
   "cell_type": "markdown",
   "metadata": {},
   "source": [
    "### Buckets"
   ]
  },
  {
   "cell_type": "code",
   "execution_count": 9,
   "metadata": {},
   "outputs": [],
   "source": [
    "num_hashes = 100\n",
    "runs = 1\n",
    "Eps = [10, 200]\n",
    "exp_mech = False\n",
    "\n",
    "data, JSim = data_lfm, JSim_lfm"
   ]
  },
  {
   "cell_type": "code",
   "execution_count": 10,
   "metadata": {},
   "outputs": [
    {
     "name": "stdout",
     "output_type": "stream",
     "text": [
      "\n",
      "Generating hash signatures based on Yan extension, using next_prime 2147483647 and eps = 10\n",
      "max =  18737\n",
      "num_buckets:  2\n",
      "Done hashing\n",
      "\n",
      "Generating MinHash signatures took 22.46sec\n",
      "\n",
      "Generating hash signatures based on Yan extension, using next_prime 2147483647 and eps = 200\n",
      "max =  18737\n",
      "num_buckets:  2\n",
      "Done hashing\n",
      "\n",
      "Generating MinHash signatures took 21.09sec\n",
      "\n",
      "Generating hash signatures based on Yan extension, using next_prime 2147483647 and eps = 10\n",
      "max =  18737\n",
      "num_buckets:  8\n",
      "Done hashing\n",
      "\n",
      "Generating MinHash signatures took 22.74sec\n",
      "\n",
      "Generating hash signatures based on Yan extension, using next_prime 2147483647 and eps = 200\n",
      "max =  18737\n",
      "num_buckets:  8\n",
      "Done hashing\n",
      "\n",
      "Generating MinHash signatures took 21.64sec\n"
     ]
    },
    {
     "data": {
      "image/png": "[encoded data removed]",
      "text/plain": [
       "<Figure size 432x288 with 1 Axes>"
      ]
     },
     "metadata": {
      "needs_background": "light"
     },
     "output_type": "display_data"
    }
   ],
   "source": [
    "#buckets = [x for x in range(2, 9, 2)]\n",
    "buckets = [2, 8]\n",
    "fig, ax = plt.subplots()\n",
    "K = num_hashes\n",
    "\n",
    "for bucket in buckets:\n",
    "    Recalls = []\n",
    "    for eps in Eps:\n",
    "        temp = 0\n",
    "        for i in range(runs):\n",
    "            analysis = main.main(data, JSim, 'bucket', K, eps=eps, num_buckets=bucket)\n",
    "            prec, rec, f1 = analysis.PRF()\n",
    "            temp += (rec/runs)   \n",
    "        Recalls.append(temp)  \n",
    "    lab = 'buckets = ' + str(bucket)\n",
    "    ax.plot(Eps, Recalls, label = lab)\n",
    "\n",
    "ax.set_xlim([Eps[0], Eps[-1]])\n",
    "ax.legend()\n",
    "ax.set_xlabel(r'$\\epsilon$')\n",
    "ax.set_ylabel('Recall')\n",
    "\n",
    "plt.savefig('Visualizations/Recall_Bucket_LastFM.png')\n",
    "plt.show()"
   ]
  },
  {
   "cell_type": "markdown",
   "metadata": {},
   "source": [
    "### Noisy"
   ]
  },
  {
   "cell_type": "code",
   "execution_count": 11,
   "metadata": {},
   "outputs": [],
   "source": [
    "num_hashes = 50\n",
    "runs = 1\n",
    "Eps = [10, 100]\n",
    "exp_mech = False\n",
    "\n",
    "data, JSim = data_lfm, JSim_lfm"
   ]
  },
  {
   "cell_type": "code",
   "execution_count": 12,
   "metadata": {},
   "outputs": [
    {
     "name": "stdout",
     "output_type": "stream",
     "text": [
      "\n",
      "Generating hash signatures based on Riazzi Extension, using next_prime 2147483647 and eps = 10\n",
      "Riazzi\n",
      "theoretical jacc  0.95\n",
      "sensi:  8.590773804494058  eps:  10  delta:  5.0543637966500144e-05\n",
      "Done hashing\n",
      "\n",
      "Generating MinHash signatures took 80.49sec\n",
      "\n",
      "Generating hash signatures based on Riazzi Extension, using next_prime 2147483647 and eps = 100\n",
      "Riazzi\n",
      "theoretical jacc  0.95\n",
      "sensi:  8.590773804494058  eps:  100  delta:  5.0543637966500144e-05\n",
      "Done hashing\n",
      "\n",
      "Generating MinHash signatures took 79.65sec\n",
      "\n",
      "Generating hash signatures based on Riazzi Extension, using next_prime 2147483647 and eps = 10\n",
      "Riazzi\n",
      "theoretical jacc  0.95\n",
      "sensi:  5.845660359529636  eps:  10  delta:  0.050543637966500146\n",
      "Done hashing\n",
      "\n",
      "Generating MinHash signatures took 78.15sec\n",
      "\n",
      "Generating hash signatures based on Riazzi Extension, using next_prime 2147483647 and eps = 100\n",
      "Riazzi\n",
      "theoretical jacc  0.95\n",
      "sensi:  5.845660359529636  eps:  100  delta:  0.050543637966500146\n",
      "Done hashing\n",
      "\n",
      "Generating MinHash signatures took 79.53sec\n"
     ]
    },
    {
     "data": {
      "image/png": "[encoded data removed]",
      "text/plain": [
       "<Figure size 432x288 with 1 Axes>"
      ]
     },
     "metadata": {
      "needs_background": "light"
     },
     "output_type": "display_data"
    }
   ],
   "source": [
    "K = 1\n",
    "l = num_hashes\n",
    "alpha = 1\n",
    "C = [1000, 1]\n",
    "A = dr.avg_set_size(data)\n",
    "Deltas = [1/(c*A) for c in C]\n",
    "\n",
    "fig, ax = plt.subplots()\n",
    "\n",
    "\n",
    "for delta in Deltas:\n",
    "    Recalls = []\n",
    "    for eps in Eps:\n",
    "        temp = 0\n",
    "        for i in range(runs):\n",
    "            analysis = main.main(data, JSim, 'noisy', K, l= l, delta= delta, alpha= alpha, eps=eps)\n",
    "            prec, rec, f1 = analysis.PRF()\n",
    "            temp += (rec/runs)   \n",
    "        Recalls.append(temp)  \n",
    "    lab = r'$\\delta$ = ' + str(format(delta, '.2f'))\n",
    "    ax.plot(Eps, Recalls, label = lab)\n",
    "\n",
    "ax.set_xlim([Eps[0], Eps[-1]])\n",
    "ax.legend()\n",
    "ax.set_xlabel(r'$\\epsilon$')\n",
    "ax.set_ylabel('Recall')\n",
    "\n",
    "plt.savefig('Visualizations/Recall_Noisy_LastFM.png')\n",
    "plt.show()"
   ]
  },
  {
   "cell_type": "markdown",
   "metadata": {},
   "source": [
    "# old stuff"
   ]
  },
  {
   "cell_type": "code",
   "execution_count": null,
   "metadata": {},
   "outputs": [],
   "source": [
    "# Read in artificial Datasets\n",
    "#low similarity\n",
    "filename_sim_low = 'input_data/Artificial_data/artificial_data_200.dat'\n",
    "filename_sim_medium = 'input_data/Artificial_data/artificial_data_20000.dat'\n",
    "filename_sim_high = 'input_data/Artificial_data/70_artificial_data.txt'\n",
    "files = [filename_sim_low, filename_sim_medium, filename_sim_high]\n",
    "data = []\n",
    "for file in files:\n",
    "    data.append(dr.read_data([file]))\n",
    "print('DATA')\n",
    "print(data)\n",
    "data = [dr.read_data(str(file)) for file in files]\n",
    "print(data)\n",
    "\n",
    "\n",
    "\n",
    "filenames_JSim = ['JSims/'+ str((str(name)).split('/')[:-1]) for name in files]\n",
    "print(filenames_JSim)\n",
    "data = [dr.read_data(str(file)) for file in files]\n",
    "data_sizes = [len(dataf.keys()) for dataf in data]\n",
    "JSims = []\n",
    "for i in range(filenames_JSim):\n",
    "    JSims.append(Preprocessing.set_JSim(data_sizes[i], filenames_JSim[i]))\n"
   ]
  },
  {
   "cell_type": "markdown",
   "metadata": {},
   "source": [
    "# PrivJac (Yan_Ext)"
   ]
  },
  {
   "cell_type": "markdown",
   "metadata": {},
   "source": [
    "## Datasets' sweetspots"
   ]
  },
  {
   "cell_type": "code",
   "execution_count": null,
   "metadata": {},
   "outputs": [],
   "source": [
    "K = 40\n",
    "Eps = [1,100]\n",
    "runs=1\n",
    "#buckets = [x for x in range(2,51,2)]\n",
    "buckets = [2,4]\n",
    "fig_ML, ax_ML = plt.subplots()\n",
    "fig_LFM, ax_LFM = plt.subplots()\n",
    "exp_mech = False\n",
    "\n",
    "\n",
    "for eps in Eps:\n",
    "    MSE_ML = []\n",
    "    MSE_LFM = []\n",
    "    for bucket in buckets:\n",
    "        temp_ML = 0\n",
    "        temp_LFM = 0\n",
    "        for i in range(runs):\n",
    "            # Movielens\n",
    "            analysis_ml = main.main(data_ml, JSim_ml, 'bucket', K, eps=eps)\n",
    "            MSE = analysis_ml.MSE()\n",
    "            temp_ML += (MSE/runs)\n",
    "            \n",
    "            # LastFM\n",
    "            analysis_lfm = main.main(data_lfm, JSim_lfm, 'bucket', K, eps=eps)\n",
    "            MSE = analysis_lfm.MSE()\n",
    "            temp_LFM += (MSE/runs)\n",
    "            \n",
    "        MSE_ML.append(temp_ML)\n",
    "        MSE_LFM.append(temp_LFM)\n",
    "        \n",
    "    lab = r'$\\epsilon$ = ' + str(eps)\n",
    "    ax_ML.plot(buckets, MSE_ML, label = lab)\n",
    "    ax_LFM.plot(buckets, MSE_LFM, label = lab)\n",
    "\n",
    "#Plot LastFM\n",
    "ax_LFM.set_xlim([buckets[0], buckets[-1]])\n",
    "ax_LFM.set_ylim([0,0.01])\n",
    "ax_LFM.legend()\n",
    "ax_LFM.set_title('MSE LastFM')\n",
    "ax_LFM.set_xlabel('Buckets')\n",
    "ax_LFM.set_ylabel('MSE')\n",
    "\n",
    "\n",
    "#Plot Movielens\n",
    "ax_ML.set_xlim([buckets[0], buckets[-1]])\n",
    "ax_ML.set_ylim([0,0.01])\n",
    "ax_ML.legend()\n",
    "ax_ML.set_title('MSE Movielens')\n",
    "ax_ML.set_xlabel('Buckets')\n",
    "ax_ML.set_ylabel('MSE')\n",
    "\n"
   ]
  },
  {
   "cell_type": "markdown",
   "metadata": {},
   "source": [
    "## Recall_Eps"
   ]
  },
  {
   "cell_type": "markdown",
   "metadata": {},
   "source": [
    "### movielens"
   ]
  },
  {
   "cell_type": "code",
   "execution_count": null,
   "metadata": {},
   "outputs": [],
   "source": [
    "K = 50\n",
    "Eps = [10,100]\n",
    "buckets = [1, 2]\n",
    "runs = 1\n",
    "fig_ML, ax_ML = plt.subplots()\n",
    "exp_mech = False\n",
    "\n",
    "\n",
    "for b in buckets:\n",
    "    recall_ML = []\n",
    "    for eps in Eps:\n",
    "        temp_recall = 0\n",
    "        for i in range(runs):\n",
    "            # Movielens\n",
    "            analysis_ml = main.main(data_ml, JSim_ml, 'bucket', K, eps=eps)\n",
    "            prec, recall, F1 = analysis_ml.PRF()\n",
    "            temp_recall += (recall/runs)\n",
    "            \n",
    "        recall_ML.append(temp_recall)\n",
    "        \n",
    "    lab = 'buckets = ' + str(b)\n",
    "    ax_ML.plot(Eps, recall_ML, label = lab)\n",
    "\n",
    "#MinHash as baseline\n",
    "analysis_mh = main.main(data_ml, JSim_ml, 'minhash', K)\n",
    "precision, recall, f1 = analysis_mh.PRF()\n",
    "recalls = [recall for x in range(len(Eps))]\n",
    "lab = 'Baseline - MinHash'\n",
    "ax_ML.plot(Eps, recalls, label = lab, linestyle='--')\n",
    "\n",
    "#Plot Movielens\n",
    "ax_ML.set_xlim([Eps[0], Eps[-1]])\n",
    "ax_ML.set_ylim([0,0.5])\n",
    "ax_ML.legend()\n",
    "ax_ML.set_title('Recall Movielens')\n",
    "ax_ML.set_xlabel(r'$\\epsilon$')\n",
    "ax_ML.set_ylabel('Recall')\n",
    "\n"
   ]
  },
  {
   "cell_type": "markdown",
   "metadata": {},
   "source": [
    "### looking at the K "
   ]
  },
  {
   "cell_type": "code",
   "execution_count": null,
   "metadata": {},
   "outputs": [],
   "source": [
    "K = 100\n",
    "Eps = [10,100]\n",
    "buckets = [1, 2, 5,6, 12]\n",
    "runs = 1\n",
    "fig_ML, ax_ML = plt.subplots()\n",
    "exp_mech = False\n",
    "\n",
    "\n",
    "for b in buckets:\n",
    "    recall_ML = []\n",
    "    for eps in Eps:\n",
    "        temp_recall = 0\n",
    "        for i in range(runs):\n",
    "            # Movielens\n",
    "            analysis_ml = main.main(data_ml, JSim_ml, 'bucket', K, eps=eps)\n",
    "            prec, recall, F1 = analysis_ml.PRF()\n",
    "            temp_recall += (recall/runs)\n",
    "            \n",
    "        recall_ML.append(temp_recall)\n",
    "        \n",
    "    lab = 'buckets = ' + str(b)\n",
    "    ax_ML.plot(Eps, recall_ML, label = lab)\n",
    "\n",
    "\n",
    "#Plot Movielens\n",
    "ax_ML.set_xlim([Eps[0], Eps[-1]])\n",
    "ax_ML.set_ylim([0,0.3])\n",
    "ax_ML.legend()\n",
    "ax_ML.set_title('Recall Movielens')\n",
    "ax_ML.set_xlabel(r'$\\epsilon$')\n",
    "ax_ML.set_ylabel('Recall')\n"
   ]
  },
  {
   "cell_type": "markdown",
   "metadata": {},
   "source": [
    "### Lastfm"
   ]
  },
  {
   "cell_type": "code",
   "execution_count": null,
   "metadata": {},
   "outputs": [],
   "source": [
    "K = 10\n",
    "Eps = [1,100]\n",
    "buckets = [2, 8]\n",
    "runs = 1\n",
    "fig_LFM, ax_LFM = plt.subplots()\n",
    "exp_mech = False\n",
    "\n",
    "\n",
    "for b in buckets:\n",
    "    recall_LFM = []\n",
    "    for eps in Eps:\n",
    "        temp_recall = 0\n",
    "        for i in range(runs):\n",
    "            # LastFM\n",
    "            analysis_lfm = main.main(data_lfm, JSim_lfm, 'bucket', K, eps=eps)\n",
    "            prec, recall, F1 = analysis_lfm.PRF()\n",
    "            temp_recall += (recall/runs)\n",
    "            \n",
    "        recall_LFM.append(temp_recall)\n",
    "        \n",
    "    lab = 'buckets = ' + str(b)\n",
    "    ax_LFM.plot(Eps, recall_LFM, label = lab)\n",
    "    \n",
    "#MinHash as baseline\n",
    "\n",
    "analysis_mh = main.main(data_lfm, JSim_lfm, 'minhash', K)\n",
    "precision, recall, f1 = analysis_mh.PRF()\n",
    "recalls = [recall for x in range(len(Eps))]\n",
    "lab = 'Baseline - MinHash'\n",
    "ax_LFM.plot(Eps, recalls, label = lab, linestyle='--')\n",
    "\n",
    "\n",
    "\n",
    "#Plot LastFm\n",
    "ax_LFM.set_xlim([Eps[0], Eps[-1]])\n",
    "ax_LFM.set_ylim([0,1])\n",
    "ax_LFM.legend()\n",
    "ax_LFM.set_title('Recall LastFm')\n",
    "ax_LFM.set_xlabel(r'$\\epsilon$')\n",
    "ax_LFM.set_ylabel('Recall')\n"
   ]
  },
  {
   "cell_type": "markdown",
   "metadata": {},
   "source": [
    "# Riazzi Extension"
   ]
  },
  {
   "cell_type": "markdown",
   "metadata": {},
   "source": [
    "## Different noise scale on Movielens"
   ]
  },
  {
   "cell_type": "code",
   "execution_count": null,
   "metadata": {},
   "outputs": [],
   "source": [
    "K = 1\n",
    "eps = 1\n",
    "runs = 1\n",
    "L = [10, 20]\n",
    "beta = 0\n",
    "alpha = 0\n",
    "B = [0.1, 5]\n",
    "\n",
    "\n",
    "fig_MSE, ax_MSE = plt.subplots()\n",
    "fig_rec, ax_rec = plt.subplots()\n",
    "\n",
    "\n",
    "for b in B:\n",
    "    MSEs = []\n",
    "    recalls = []\n",
    "    for l in L:\n",
    "        temp_MSE = 0\n",
    "        temp_recall = 0\n",
    "        for i in range(runs):\n",
    "            analysis = main.main(data_ml, JSim_ml, 'noisy', K, l=l, b=b, eps=eps)\n",
    "            MSE = analysis.MSE()\n",
    "            precision, recall, f1 = analysis.PRF()\n",
    "            temp_MSE += (MSE/runs)\n",
    "            temp_recall += (recall/runs)\n",
    "        MSEs.append(temp_MSE)\n",
    "        recalls.append(temp_recall)\n",
    "    lab = 'b = ' + str(b)\n",
    "    ax_rec.plot(L, recalls, label = lab)\n",
    "    ax_MSE.plot(L, MSEs, label = lab)\n",
    "\n",
    "\n",
    "ax_rec.set_xlim([L[0], L[-1]])\n",
    "ax_rec.set_ylim([0,0.5])\n",
    "ax_MSE.set_xlim([L[0], L[-1]])\n",
    "ax_MSE.set_ylim([0,0.5])\n",
    "ax_MSE.legend()\n",
    "ax_rec.legend()\n",
    "ax_rec.set_title('Recall Movielens')\n",
    "ax_MSE.set_title('MSE Movielens')\n",
    "ax_rec.set_xlabel('length of signature')\n",
    "ax_MSE.set_xlabel('length of signature')\n",
    "ax_MSE.set_ylabel('MSE')\n",
    "ax_rec.set_ylabel('Recall')\n"
   ]
  },
  {
   "cell_type": "markdown",
   "metadata": {},
   "source": [
    "## Different noise scale on LastFM"
   ]
  },
  {
   "cell_type": "code",
   "execution_count": null,
   "metadata": {},
   "outputs": [],
   "source": [
    "K = 1\n",
    "eps = 1\n",
    "L = [10, 50]\n",
    "beta = 0\n",
    "alpha = 0\n",
    "B = [0.1, 5]\n",
    "runs=1\n",
    "\n",
    "fig_LFM, ax_LFM = plt.subplots()\n",
    "\n",
    "for b in B:\n",
    "    recalls = []\n",
    "    for l in L:\n",
    "        temp_recall = 0\n",
    "        for i in range(runs):\n",
    "            analysis = main.main(data_lfm, JSim_lfm, 'noisy', K, l=l, b=b, eps=eps, alpha = 1, delta = 0.001)\n",
    "            precision, recall, f1 = analysis.PRF()\n",
    "            temp_recall += (recall/runs)\n",
    "        recalls.append(temp_recall)\n",
    "    lab = 'b = ' + str(b)\n",
    "    ax_LFM.plot(L, recalls, label = lab)\n",
    "\n",
    "#Plot LastFM\n",
    "ax_LFM.set_xlim([L[0], L[-1]])\n",
    "ax_LFM.set_ylim([0,0.5])\n",
    "ax_LFM.legend()\n",
    "ax_LFM.set_title('Recall LastFM')\n",
    "ax_LFM.set_xlabel('L')\n",
    "ax_LFM.set_ylabel('REcall')"
   ]
  },
  {
   "cell_type": "markdown",
   "metadata": {},
   "source": [
    "\n",
    "## Different delta Movielens"
   ]
  },
  {
   "cell_type": "code",
   "execution_count": null,
   "metadata": {},
   "outputs": [],
   "source": [
    "Ks = [1, 2, 3]\n",
    "L = [10, 200]\n",
    "cs = [1, 10000]\n",
    "alpha = 5\n",
    "runs = 1\n",
    "\n",
    "for k in Ks:\n",
    "    fig, ax = plt.subplots()\n",
    "    for c in cs:\n",
    "        recalls = []\n",
    "        for l in L:\n",
    "            temp_recall = 0\n",
    "            delta = 1/(c * l)\n",
    "            eps = l * 0.5\n",
    "            for i in range(runs):\n",
    "                analysis = main.main(data_ml, JSim_ml, 'noisy', k, l=l, alpha=alpha, eps=eps, delta=delta)\n",
    "                precision, recall, f1 = analysis.PRF()\n",
    "                temp_recall += (recall/runs)\n",
    "            recalls.append(temp_recall)\n",
    "        lab = r'$\\delta$ = 1/' + str(c) + 'K'\n",
    "        ax.plot(L, recalls, label = lab)\n",
    "        \n",
    "    ax.set_xlim([L[0], L[-1]])\n",
    "    ax.set_ylim([0,0.5])\n",
    "    ax.legend()\n",
    "    ax.set_xlabel('length of signature')\n",
    "    ax.set_ylabel('Recall') "
   ]
  },
  {
   "cell_type": "code",
   "execution_count": null,
   "metadata": {},
   "outputs": [],
   "source": []
  },
  {
   "cell_type": "markdown",
   "metadata": {},
   "source": [
    "## Different delta LastFM\n"
   ]
  },
  {
   "cell_type": "code",
   "execution_count": null,
   "metadata": {},
   "outputs": [],
   "source": []
  },
  {
   "cell_type": "markdown",
   "metadata": {},
   "source": [
    "## Noisy_secure vs noisy_reg"
   ]
  },
  {
   "cell_type": "code",
   "execution_count": null,
   "metadata": {},
   "outputs": [],
   "source": [
    "K = [1]\n",
    "delta = 0.001\n",
    "length = 100\n",
    "alpha = 1\n",
    "Eps = [1, 100]\n",
    "runs = 1\n",
    "\n",
    "\n",
    "for k in K:\n",
    "    sec_recall = []\n",
    "    for eps in Eps:\n",
    "        temp_recall = 0\n",
    "        for i in range(runs):\n",
    "            analysis = main.main(data_lfm, JSim_lfm, 'noisy', k, l=length, alpha=alpha, eps=eps, delta= delta)\n",
    "            precision, recall, f1 = analysis.PRF()\n",
    "            temp_recall += recall/runs\n",
    "        sec_recall.append(temp_recall)\n",
    "    lab = 'K = ' + str(k)\n",
    "    plt.plot(Eps, sec_recall,label=lab)\n",
    "\n",
    "        \n",
    "    \n",
    "reg_recall = []\n",
    "for eps in Eps:\n",
    "    temp_recall = 0\n",
    "    for i in range(runs):\n",
    "        analysis = main.main(data_ml, JSim_ml, 'reg_noise', length, alpha=alpha, eps=eps, delta=delta)\n",
    "        precision, recall, f1 = analysis.PRF()\n",
    "        temp_recall += (recall/runs)\n",
    "    reg_recall.append(temp_recall)\n",
    "lab = 'Regular Noisy MinHash'\n",
    "plt.plot(Eps, reg_recall, label=lab)\n",
    "plt.legend()\n",
    "plt.xlabel(r'$\\epsilon$')\n",
    "plt.ylabel('Recall')\n",
    "\n"
   ]
  },
  {
   "cell_type": "code",
   "execution_count": null,
   "metadata": {},
   "outputs": [],
   "source": []
  }
 ],
 "metadata": {
  "kernelspec": {
   "display_name": "Python 3",
   "language": "python",
   "name": "python3"
  },
  "language_info": {
   "codemirror_mode": {
    "name": "ipython",
    "version": 3
   },
   "file_extension": ".py",
   "mimetype": "text/x-python",
   "name": "python",
   "nbconvert_exporter": "python",
   "pygments_lexer": "ipython3",
   "version": "3.7.2"
  },
  "toc": {
   "base_numbering": 1,
   "nav_menu": {},
   "number_sections": true,
   "sideBar": true,
   "skip_h1_title": false,
   "title_cell": "Table of Contents",
   "title_sidebar": "Contents",
   "toc_cell": false,
   "toc_position": {},
   "toc_section_display": true,
   "toc_window_display": false
  }
 },
 "nbformat": 4,
 "nbformat_minor": 2
}
