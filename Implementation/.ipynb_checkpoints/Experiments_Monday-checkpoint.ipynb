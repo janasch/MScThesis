{
 "cells": [
  {
   "cell_type": "markdown",
   "metadata": {},
   "source": [
    "# Experiments"
   ]
  },
  {
   "cell_type": "code",
   "execution_count": 1,
   "metadata": {},
   "outputs": [],
   "source": [
    "import math\n",
    "import matplotlib.pyplot as plt \n",
    "import main"
   ]
  },
  {
   "cell_type": "code",
   "execution_count": 2,
   "metadata": {},
   "outputs": [
    {
     "name": "stdout",
     "output_type": "stream",
     "text": [
      "JSIM matrix size 2112 2112\n",
      "JSIM matrix size 1892 1892\n"
     ]
    }
   ],
   "source": [
    "data_ml, JSim_ml = main.setup('movielens.dat')\n",
    "data_lfm, JSim_lfm = main.setup('lastfm.dat')"
   ]
  },
  {
   "cell_type": "code",
   "execution_count": 3,
   "metadata": {},
   "outputs": [
    {
     "ename": "NameError",
     "evalue": "name 'dr' is not defined",
     "output_type": "error",
     "traceback": [
      "\u001b[0;31m---------------------------------------------------------------------------\u001b[0m",
      "\u001b[0;31mNameError\u001b[0m                                 Traceback (most recent call last)",
      "\u001b[0;32m<ipython-input-3-0b15db532b8e>\u001b[0m in \u001b[0;36m<module>\u001b[0;34m()\u001b[0m\n\u001b[1;32m      7\u001b[0m \u001b[0mdata\u001b[0m \u001b[0;34m=\u001b[0m \u001b[0;34m[\u001b[0m\u001b[0;34m]\u001b[0m\u001b[0;34m\u001b[0m\u001b[0;34m\u001b[0m\u001b[0m\n\u001b[1;32m      8\u001b[0m \u001b[0;32mfor\u001b[0m \u001b[0mfile\u001b[0m \u001b[0;32min\u001b[0m \u001b[0mfiles\u001b[0m\u001b[0;34m:\u001b[0m\u001b[0;34m\u001b[0m\u001b[0;34m\u001b[0m\u001b[0m\n\u001b[0;32m----> 9\u001b[0;31m     \u001b[0mdata\u001b[0m\u001b[0;34m.\u001b[0m\u001b[0mappend\u001b[0m\u001b[0;34m(\u001b[0m\u001b[0mdr\u001b[0m\u001b[0;34m.\u001b[0m\u001b[0mread_data\u001b[0m\u001b[0;34m(\u001b[0m\u001b[0;34m[\u001b[0m\u001b[0mfile\u001b[0m\u001b[0;34m]\u001b[0m\u001b[0;34m)\u001b[0m\u001b[0;34m)\u001b[0m\u001b[0;34m\u001b[0m\u001b[0;34m\u001b[0m\u001b[0m\n\u001b[0m\u001b[1;32m     10\u001b[0m \u001b[0mprint\u001b[0m\u001b[0;34m(\u001b[0m\u001b[0;34m'DATA'\u001b[0m\u001b[0;34m)\u001b[0m\u001b[0;34m\u001b[0m\u001b[0;34m\u001b[0m\u001b[0m\n\u001b[1;32m     11\u001b[0m \u001b[0mprint\u001b[0m\u001b[0;34m(\u001b[0m\u001b[0mdata\u001b[0m\u001b[0;34m)\u001b[0m\u001b[0;34m\u001b[0m\u001b[0;34m\u001b[0m\u001b[0m\n",
      "\u001b[0;31mNameError\u001b[0m: name 'dr' is not defined"
     ]
    }
   ],
   "source": [
    "# Read in artificial Datasets\n",
    "#low similarity\n",
    "filename_sim_low = 'input_data/Artificial_data/30_artificial_data.txt'\n",
    "filename_sim_medium = 'input_data/Artificial_data/50_artificial_data.txt'\n",
    "filename_sim_high = 'input_data/Artificial_data/70_artificial_data.txt'\n",
    "files = [filename_sim_low, filename_sim_medium, filename_sim_high]\n",
    "data = []\n",
    "for file in files:\n",
    "    data.append(dr.read_data([file]))\n",
    "print('DATA')\n",
    "print(data)\n",
    "data = [dr.read_data(str(file)) for file in files]\n",
    "print(data)\n",
    "\n",
    "\n",
    "\n",
    "filenames_JSim = ['JSims/'+ str((str(name)).split('/')[:-1]) for name in files]\n",
    "print(filenames_JSim)\n",
    "data = [dr.read_data(str(file)) for file in files]\n",
    "data_sizes = [len(dataf.keys()) for dataf in data]\n",
    "JSims = []\n",
    "for i in range(filenames_JSim):\n",
    "    JSims.append(Preprocessing.set_JSim(data_sizes[i], filenames_JSim[i]))\n"
   ]
  },
  {
   "cell_type": "markdown",
   "metadata": {},
   "source": [
    "## Accurracy of similarity estimations "
   ]
  },
  {
   "cell_type": "markdown",
   "metadata": {},
   "source": [
    "### Bucket PrivMin Movielens "
   ]
  },
  {
   "cell_type": "code",
   "execution_count": 4,
   "metadata": {},
   "outputs": [
    {
     "name": "stdout",
     "output_type": "stream",
     "text": [
      "\n",
      "Generating hash signatures based on Yan extension, using next_prime 2147483647 and eps = 1\n",
      "max =  65133\n",
      "Done hashing\n",
      "\n",
      "Generating MinHash signatures took 13.72sec\n",
      "\n",
      "Generating hash signatures based on Yan extension, using next_prime 2147483647 and eps = 100\n",
      "max =  65133\n",
      "Done hashing\n",
      "\n",
      "Generating MinHash signatures took 13.39sec\n",
      "\n",
      "Generating hash signatures based on Yan extension, using next_prime 2147483647 and eps = 1\n",
      "max =  65133\n",
      "Done hashing\n",
      "\n",
      "Generating MinHash signatures took 14.13sec\n",
      "\n",
      "Generating hash signatures based on Yan extension, using next_prime 2147483647 and eps = 100\n",
      "max =  65133\n",
      "Done hashing\n",
      "\n",
      "Generating MinHash signatures took 13.84sec\n"
     ]
    },
    {
     "data": {
      "text/plain": [
       "Text(0,0.5,'MSE')"
      ]
     },
     "execution_count": 4,
     "metadata": {},
     "output_type": "execute_result"
    },
    {
     "data": {
      "image/png": "[encoded data removed]",
      "text/plain": [
       "<matplotlib.figure.Figure at 0x7f2befd48cc0>"
      ]
     },
     "metadata": {},
     "output_type": "display_data"
    }
   ],
   "source": [
    "K = 40\n",
    "Eps = [1,100]\n",
    "runs=1\n",
    "#buckets = [x for x in range(2,51,2)]\n",
    "buckets = [2,4]\n",
    "fig, ax = plt.subplots()\n",
    "exp_mech = False\n",
    "\n",
    "\n",
    "for bucket in buckets:\n",
    "    MSEs = []\n",
    "    for eps in Eps:\n",
    "        temp = 0\n",
    "        for i in range(runs):\n",
    "            # Movielens\n",
    "            analysis = main.main(data_ml, JSim_ml, 'bucket', K, eps=eps, num_buckets=bucket)\n",
    "            MSE = analysis.MSE()\n",
    "            temp += (MSE/runs)\n",
    "            \n",
    "        MSEs.append(temp)\n",
    "        \n",
    "    lab = '# Buckets = ' + str(bucket)\n",
    "    ax.plot(buckets, MSEs, label = lab)\n",
    "\n",
    "ax.set_xlim([Eps[0], Eps[-1]])\n",
    "ax.legend()\n",
    "ax.set_title('MSE Movielens')\n",
    "ax.set_xlabel(r'$\\epsilon$')\n",
    "ax.set_ylabel('MSE')"
   ]
  },
  {
   "cell_type": "markdown",
   "metadata": {},
   "source": [
    "### Bucket PrivMin LastFM"
   ]
  },
  {
   "cell_type": "markdown",
   "metadata": {},
   "source": [
    "### Noisy Secure MinHash Movielens"
   ]
  },
  {
   "cell_type": "markdown",
   "metadata": {},
   "source": [
    "### Noisy Secure MinHash LastFM"
   ]
  },
  {
   "cell_type": "markdown",
   "metadata": {},
   "source": [
    "### Bucket PrivMin vs Noisy Secure MinHash"
   ]
  },
  {
   "cell_type": "markdown",
   "metadata": {},
   "source": [
    "# PrivJac (Yan_Ext)"
   ]
  },
  {
   "cell_type": "markdown",
   "metadata": {},
   "source": [
    "## Datasets' sweetspots"
   ]
  },
  {
   "cell_type": "code",
   "execution_count": 8,
   "metadata": {},
   "outputs": [
    {
     "name": "stdout",
     "output_type": "stream",
     "text": [
      "\n",
      "Generating hash signatures based on Yan extension, using next_prime 2147483647 and eps = 1\n",
      "max =  65133\n",
      "13.34466256371415\n",
      "Done hashing\n",
      "\n",
      "Generating MinHash signatures took 20.28sec\n",
      "\n",
      "Generating hash signatures based on Yan extension, using next_prime 2147483647 and eps = 1\n",
      "max =  18737\n",
      "4.448020202396818\n",
      "Done hashing\n",
      "\n",
      "Generating MinHash signatures took 9.75sec\n",
      "\n",
      "Generating hash signatures based on Yan extension, using next_prime 2147483647 and eps = 1\n",
      "max =  65133\n",
      "13.34466256371415\n",
      "Done hashing\n",
      "\n",
      "Generating MinHash signatures took 19.75sec\n",
      "\n",
      "Generating hash signatures based on Yan extension, using next_prime 2147483647 and eps = 1\n",
      "max =  18737\n",
      "4.448020202396818\n",
      "Done hashing\n",
      "\n",
      "Generating MinHash signatures took 9.10sec\n",
      "\n",
      "Generating hash signatures based on Yan extension, using next_prime 2147483647 and eps = 100\n",
      "max =  65133\n",
      "13.34466256371415\n",
      "Done hashing\n",
      "\n",
      "Generating MinHash signatures took 19.70sec\n",
      "\n",
      "Generating hash signatures based on Yan extension, using next_prime 2147483647 and eps = 100\n",
      "max =  18737\n",
      "4.448020202396818\n",
      "Done hashing\n",
      "\n",
      "Generating MinHash signatures took 9.44sec\n",
      "\n",
      "Generating hash signatures based on Yan extension, using next_prime 2147483647 and eps = 100\n",
      "max =  65133\n",
      "13.34466256371415\n",
      "Done hashing\n",
      "\n",
      "Generating MinHash signatures took 19.70sec\n",
      "\n",
      "Generating hash signatures based on Yan extension, using next_prime 2147483647 and eps = 100\n",
      "max =  18737\n",
      "4.448020202396818\n",
      "Done hashing\n",
      "\n",
      "Generating MinHash signatures took 9.25sec\n"
     ]
    },
    {
     "data": {
      "text/plain": [
       "Text(0, 0.5, 'MSE')"
      ]
     },
     "execution_count": 8,
     "metadata": {},
     "output_type": "execute_result"
    },
    {
     "data": {
      "image/png": "[encoded data removed]",
      "text/plain": [
       "<Figure size 432x288 with 1 Axes>"
      ]
     },
     "metadata": {
      "needs_background": "light"
     },
     "output_type": "display_data"
    },
    {
     "data": {
      "image/png": "[encoded data removed]",
      "text/plain": [
       "<Figure size 432x288 with 1 Axes>"
      ]
     },
     "metadata": {
      "needs_background": "light"
     },
     "output_type": "display_data"
    }
   ],
   "source": [
    "K = 40\n",
    "Eps = [1,100]\n",
    "runs=1\n",
    "buckets = [x for x in range(2,15,2)]\n",
    "#buckets = [2,4, 6, 10]\n",
    "fig_ML, ax_ML = plt.subplots()\n",
    "fig_LFM, ax_LFM = plt.subplots()\n",
    "exp_mech = False\n",
    "\n",
    "\n",
    "for eps in Eps:\n",
    "    MSE_ML = []\n",
    "    MSE_LFM = []\n",
    "    for bucket in buckets:\n",
    "        temp_ML = 0\n",
    "        temp_LFM = 0\n",
    "        for i in range(runs):\n",
    "            # Movielens\n",
    "            analysis_ml = main.main(data_ml, JSim_ml, 'bucket', K, eps=eps)\n",
    "            MSE = analysis_ml.MSE()\n",
    "            temp_ML += (MSE/runs)\n",
    "            \n",
    "            # LastFM\n",
    "            analysis_lfm = main.main(data_lfm, JSim_lfm, 'bucket', K, eps=eps)\n",
    "            MSE = analysis_lfm.MSE()\n",
    "            temp_LFM += (MSE/runs)\n",
    "            \n",
    "        MSE_ML.append(temp_ML)\n",
    "        MSE_LFM.append(temp_LFM)\n",
    "        \n",
    "    lab = r'$\\epsilon$ = ' + str(eps)\n",
    "    ax_ML.plot(buckets, MSE_ML, label = lab)\n",
    "    ax_LFM.plot(buckets, MSE_LFM, label = lab)\n",
    "\n",
    "#Plot LastFM\n",
    "ax_LFM.set_xlim([buckets[0], buckets[-1]])\n",
    "ax_LFM.set_ylim([0,0.01])\n",
    "ax_LFM.legend()\n",
    "ax_LFM.set_title('MSE LastFM')\n",
    "ax_LFM.set_xlabel('Buckets')\n",
    "ax_LFM.set_ylabel('MSE')\n",
    "\n",
    "\n",
    "#Plot Movielens\n",
    "ax_ML.set_xlim([buckets[0], buckets[-1]])\n",
    "ax_ML.set_ylim([0,0.01])\n",
    "ax_ML.legend()\n",
    "ax_ML.set_title('MSE Movielens')\n",
    "ax_ML.set_xlabel('Buckets')\n",
    "ax_ML.set_ylabel('MSE')\n",
    "\n"
   ]
  },
  {
   "cell_type": "markdown",
   "metadata": {},
   "source": [
    "## Recall_Eps"
   ]
  },
  {
   "cell_type": "markdown",
   "metadata": {},
   "source": [
    "### movielens"
   ]
  },
  {
   "cell_type": "code",
   "execution_count": 9,
   "metadata": {},
   "outputs": [
    {
     "name": "stdout",
     "output_type": "stream",
     "text": [
      "\n",
      "Generating hash signatures based on Yan extension, using next_prime 2147483647 and eps = 10\n",
      "max =  65133\n",
      "13.34466256371415\n",
      "Done hashing\n",
      "\n",
      "Generating MinHash signatures took 24.24sec\n",
      "\n",
      "Generating hash signatures based on Yan extension, using next_prime 2147483647 and eps = 100\n",
      "max =  65133\n",
      "13.34466256371415\n",
      "Done hashing\n",
      "\n",
      "Generating MinHash signatures took 24.14sec\n",
      "\n",
      "Generating hash signatures based on Yan extension, using next_prime 2147483647 and eps = 10\n",
      "max =  65133\n",
      "13.34466256371415\n",
      "Done hashing\n",
      "\n",
      "Generating MinHash signatures took 23.74sec\n",
      "\n",
      "Generating hash signatures based on Yan extension, using next_prime 2147483647 and eps = 100\n",
      "max =  65133\n",
      "13.34466256371415\n",
      "Done hashing\n",
      "\n",
      "Generating MinHash signatures took 23.54sec\n",
      "\n",
      "Generating standard minHash signatures...\n",
      "Done hashing\n",
      "\n",
      "Generating MinHash signatures took 22.52sec\n"
     ]
    },
    {
     "data": {
      "text/plain": [
       "Text(0, 0.5, 'Recall')"
      ]
     },
     "execution_count": 9,
     "metadata": {},
     "output_type": "execute_result"
    },
    {
     "data": {
      "image/png": "[encoded data removed]",
      "text/plain": [
       "<Figure size 432x288 with 1 Axes>"
      ]
     },
     "metadata": {
      "needs_background": "light"
     },
     "output_type": "display_data"
    }
   ],
   "source": [
    "K = 50\n",
    "Eps = [10,100]\n",
    "buckets = [1, 2]\n",
    "runs = 1\n",
    "fig_ML, ax_ML = plt.subplots()\n",
    "exp_mech = False\n",
    "\n",
    "\n",
    "for b in buckets:\n",
    "    recall_ML = []\n",
    "    for eps in Eps:\n",
    "        temp_recall = 0\n",
    "        for i in range(runs):\n",
    "            # Movielens\n",
    "            analysis_ml = main.main(data_ml, JSim_ml, 'bucket', K, eps=eps)\n",
    "            prec, recall, F1 = analysis_ml.PRF()\n",
    "            temp_recall += (recall/runs)\n",
    "            \n",
    "        recall_ML.append(temp_recall)\n",
    "        \n",
    "    lab = 'buckets = ' + str(b)\n",
    "    ax_ML.plot(Eps, recall_ML, label = lab)\n",
    "\n",
    "#MinHash as baseline\n",
    "analysis_mh = main.main(data_ml, JSim_ml, 'minhash', K)\n",
    "precision, recall, f1 = analysis_mh.PRF()\n",
    "recalls = [recall for x in range(len(Eps))]\n",
    "lab = 'Baseline - MinHash'\n",
    "ax_ML.plot(Eps, recalls, label = lab, linestyle='--')\n",
    "\n",
    "#Plot Movielens\n",
    "ax_ML.set_xlim([Eps[0], Eps[-1]])\n",
    "ax_ML.set_ylim([0,0.5])\n",
    "ax_ML.legend()\n",
    "ax_ML.set_title('Recall Movielens')\n",
    "ax_ML.set_xlabel(r'$\\epsilon$')\n",
    "ax_ML.set_ylabel('Recall')\n",
    "\n"
   ]
  },
  {
   "cell_type": "markdown",
   "metadata": {},
   "source": [
    "### looking at the K "
   ]
  },
  {
   "cell_type": "code",
   "execution_count": 10,
   "metadata": {},
   "outputs": [
    {
     "name": "stdout",
     "output_type": "stream",
     "text": [
      "\n",
      "Generating hash signatures based on Yan extension, using next_prime 2147483647 and eps = 10\n",
      "max =  65133\n",
      "13.34466256371415\n",
      "Done hashing\n",
      "\n",
      "Generating MinHash signatures took 45.72sec\n",
      "\n",
      "Generating hash signatures based on Yan extension, using next_prime 2147483647 and eps = 100\n",
      "max =  65133\n",
      "13.34466256371415\n",
      "Done hashing\n",
      "\n",
      "Generating MinHash signatures took 45.15sec\n",
      "\n",
      "Generating hash signatures based on Yan extension, using next_prime 2147483647 and eps = 10\n",
      "max =  65133\n",
      "13.34466256371415\n",
      "Done hashing\n",
      "\n",
      "Generating MinHash signatures took 45.55sec\n",
      "\n",
      "Generating hash signatures based on Yan extension, using next_prime 2147483647 and eps = 100\n",
      "max =  65133\n",
      "13.34466256371415\n",
      "Done hashing\n",
      "\n",
      "Generating MinHash signatures took 44.02sec\n",
      "\n",
      "Generating hash signatures based on Yan extension, using next_prime 2147483647 and eps = 10\n",
      "max =  65133\n",
      "13.34466256371415\n",
      "Done hashing\n",
      "\n",
      "Generating MinHash signatures took 44.14sec\n",
      "\n",
      "Generating hash signatures based on Yan extension, using next_prime 2147483647 and eps = 100\n",
      "max =  65133\n",
      "13.34466256371415\n",
      "Done hashing\n",
      "\n",
      "Generating MinHash signatures took 45.13sec\n",
      "\n",
      "Generating hash signatures based on Yan extension, using next_prime 2147483647 and eps = 10\n",
      "max =  65133\n",
      "13.34466256371415\n",
      "Done hashing\n",
      "\n",
      "Generating MinHash signatures took 44.75sec\n",
      "\n",
      "Generating hash signatures based on Yan extension, using next_prime 2147483647 and eps = 100\n",
      "max =  65133\n",
      "13.34466256371415\n",
      "Done hashing\n",
      "\n",
      "Generating MinHash signatures took 44.79sec\n",
      "\n",
      "Generating hash signatures based on Yan extension, using next_prime 2147483647 and eps = 10\n",
      "max =  65133\n",
      "13.34466256371415\n",
      "Done hashing\n",
      "\n",
      "Generating MinHash signatures took 45.52sec\n",
      "\n",
      "Generating hash signatures based on Yan extension, using next_prime 2147483647 and eps = 100\n",
      "max =  65133\n",
      "13.34466256371415\n",
      "Done hashing\n",
      "\n",
      "Generating MinHash signatures took 44.83sec\n"
     ]
    },
    {
     "data": {
      "text/plain": [
       "Text(0, 0.5, 'Recall')"
      ]
     },
     "execution_count": 10,
     "metadata": {},
     "output_type": "execute_result"
    },
    {
     "data": {
      "image/png": "[encoded data removed]",
      "text/plain": [
       "<Figure size 432x288 with 1 Axes>"
      ]
     },
     "metadata": {
      "needs_background": "light"
     },
     "output_type": "display_data"
    }
   ],
   "source": [
    "K = 100\n",
    "Eps = [10,100]\n",
    "buckets = [1, 2, 5,6, 12]\n",
    "runs = 1\n",
    "fig_ML, ax_ML = plt.subplots()\n",
    "exp_mech = False\n",
    "\n",
    "\n",
    "for b in buckets:\n",
    "    recall_ML = []\n",
    "    for eps in Eps:\n",
    "        temp_recall = 0\n",
    "        for i in range(runs):\n",
    "            # Movielens\n",
    "            analysis_ml = main.main(data_ml, JSim_ml, 'bucket', K, eps=eps)\n",
    "            prec, recall, F1 = analysis_ml.PRF()\n",
    "            temp_recall += (recall/runs)\n",
    "            \n",
    "        recall_ML.append(temp_recall)\n",
    "        \n",
    "    lab = 'buckets = ' + str(b)\n",
    "    ax_ML.plot(Eps, recall_ML, label = lab)\n",
    "\n",
    "\n",
    "#Plot Movielens\n",
    "ax_ML.set_xlim([Eps[0], Eps[-1]])\n",
    "ax_ML.set_ylim([0,0.3])\n",
    "ax_ML.legend()\n",
    "ax_ML.set_title('Recall Movielens')\n",
    "ax_ML.set_xlabel(r'$\\epsilon$')\n",
    "ax_ML.set_ylabel('Recall')\n"
   ]
  },
  {
   "cell_type": "markdown",
   "metadata": {},
   "source": [
    "### Lastfm"
   ]
  },
  {
   "cell_type": "code",
   "execution_count": 11,
   "metadata": {},
   "outputs": [
    {
     "name": "stdout",
     "output_type": "stream",
     "text": [
      "\n",
      "Generating hash signatures based on Yan extension, using next_prime 2147483647 and eps = 1\n",
      "max =  18737\n",
      "4.448020202396818\n",
      "Done hashing\n",
      "\n",
      "Generating MinHash signatures took 4.12sec\n",
      "\n",
      "Generating hash signatures based on Yan extension, using next_prime 2147483647 and eps = 100\n",
      "max =  18737\n",
      "4.448020202396818\n",
      "Done hashing\n",
      "\n",
      "Generating MinHash signatures took 4.12sec\n",
      "\n",
      "Generating hash signatures based on Yan extension, using next_prime 2147483647 and eps = 1\n",
      "max =  18737\n",
      "4.448020202396818\n",
      "Done hashing\n",
      "\n",
      "Generating MinHash signatures took 4.14sec\n",
      "\n",
      "Generating hash signatures based on Yan extension, using next_prime 2147483647 and eps = 100\n",
      "max =  18737\n",
      "4.448020202396818\n",
      "Done hashing\n",
      "\n",
      "Generating MinHash signatures took 4.15sec\n",
      "\n",
      "Generating standard minHash signatures...\n",
      "Done hashing\n",
      "\n",
      "Generating MinHash signatures took 4.26sec\n"
     ]
    },
    {
     "data": {
      "text/plain": [
       "Text(0, 0.5, 'Recall')"
      ]
     },
     "execution_count": 11,
     "metadata": {},
     "output_type": "execute_result"
    },
    {
     "data": {
      "image/png": "[encoded data removed]",
      "text/plain": [
       "<Figure size 432x288 with 1 Axes>"
      ]
     },
     "metadata": {
      "needs_background": "light"
     },
     "output_type": "display_data"
    }
   ],
   "source": [
    "K = 10\n",
    "Eps = [1,100]\n",
    "buckets = [2, 8]\n",
    "runs = 1\n",
    "fig_LFM, ax_LFM = plt.subplots()\n",
    "exp_mech = False\n",
    "\n",
    "\n",
    "for b in buckets:\n",
    "    recall_LFM = []\n",
    "    for eps in Eps:\n",
    "        temp_recall = 0\n",
    "        for i in range(runs):\n",
    "            # LastFM\n",
    "            analysis_lfm = main.main(data_lfm, JSim_lfm, 'bucket', K, eps=eps)\n",
    "            prec, recall, F1 = analysis_lfm.PRF()\n",
    "            temp_recall += (recall/runs)\n",
    "            \n",
    "        recall_LFM.append(temp_recall)\n",
    "        \n",
    "    lab = 'buckets = ' + str(b)\n",
    "    ax_LFM.plot(Eps, recall_LFM, label = lab)\n",
    "    \n",
    "#MinHash as baseline\n",
    "\n",
    "analysis_mh = main.main(data_lfm, JSim_lfm, 'minhash', K)\n",
    "precision, recall, f1 = analysis_mh.PRF()\n",
    "recalls = [recall for x in range(len(Eps))]\n",
    "lab = 'Baseline - MinHash'\n",
    "ax_LFM.plot(Eps, recalls, label = lab, linestyle='--')\n",
    "\n",
    "\n",
    "\n",
    "#Plot LastFm\n",
    "ax_LFM.set_xlim([Eps[0], Eps[-1]])\n",
    "ax_LFM.set_ylim([0,1])\n",
    "ax_LFM.legend()\n",
    "ax_LFM.set_title('Recall LastFm')\n",
    "ax_LFM.set_xlabel(r'$\\epsilon$')\n",
    "ax_LFM.set_ylabel('Recall')\n"
   ]
  },
  {
   "cell_type": "markdown",
   "metadata": {},
   "source": [
    "# Riazzi Extension"
   ]
  },
  {
   "cell_type": "markdown",
   "metadata": {},
   "source": [
    "## Different noise scale on Movielens"
   ]
  },
  {
   "cell_type": "code",
   "execution_count": 13,
   "metadata": {},
   "outputs": [
    {
     "name": "stdout",
     "output_type": "stream",
     "text": [
      "\n",
      "Generating hash signatures based on Riazzi Extension, using next_prime 2147483647 and eps = 1\n",
      "Riazzi\n",
      "theoretical jacc  0.9719227343428032\n",
      "alpha  0.14740564470028328\n",
      "Done hashing\n",
      "\n",
      "Generating MinHash signatures took 45.06sec\n",
      "\n",
      "Generating hash signatures based on Riazzi Extension, using next_prime 2147483647 and eps = 1\n",
      "Riazzi\n",
      "theoretical jacc  0.9719227343428032\n",
      "alpha  0.29481128940056656\n",
      "Done hashing\n",
      "\n",
      "Generating MinHash signatures took 61.71sec\n",
      "\n",
      "Generating hash signatures based on Riazzi Extension, using next_prime 2147483647 and eps = 1\n",
      "Riazzi\n",
      "theoretical jacc  0.9719227343428032\n",
      "alpha  0.14740564470028328\n",
      "Done hashing\n",
      "\n",
      "Generating MinHash signatures took 43.87sec\n",
      "\n",
      "Generating hash signatures based on Riazzi Extension, using next_prime 2147483647 and eps = 1\n",
      "Riazzi\n",
      "theoretical jacc  0.9719227343428032\n",
      "alpha  0.29481128940056656\n",
      "Done hashing\n",
      "\n",
      "Generating MinHash signatures took 60.50sec\n"
     ]
    },
    {
     "data": {
      "text/plain": [
       "Text(0, 0.5, 'Recall')"
      ]
     },
     "execution_count": 13,
     "metadata": {},
     "output_type": "execute_result"
    },
    {
     "data": {
      "image/png": "[encoded data removed]",
      "text/plain": [
       "<Figure size 432x288 with 1 Axes>"
      ]
     },
     "metadata": {
      "needs_background": "light"
     },
     "output_type": "display_data"
    },
    {
     "data": {
      "image/png": "[encoded data removed]",
      "text/plain": [
       "<Figure size 432x288 with 1 Axes>"
      ]
     },
     "metadata": {
      "needs_background": "light"
     },
     "output_type": "display_data"
    }
   ],
   "source": [
    "K = 1\n",
    "eps = 1\n",
    "runs = 1\n",
    "L = [10, 20]\n",
    "beta = 0\n",
    "alpha = 0\n",
    "B = [0.1, 5]\n",
    "\n",
    "\n",
    "fig_MSE, ax_MSE = plt.subplots()\n",
    "fig_rec, ax_rec = plt.subplots()\n",
    "\n",
    "\n",
    "for b in B:\n",
    "    MSEs = []\n",
    "    recalls = []\n",
    "    for l in L:\n",
    "        temp_MSE = 0\n",
    "        temp_recall = 0\n",
    "        for i in range(runs):\n",
    "            analysis = main.main(data_ml, JSim_ml, 'noisy', K, l=l, b=b, eps=eps)\n",
    "            MSE = analysis.MSE()\n",
    "            precision, recall, f1 = analysis.PRF()\n",
    "            temp_MSE += (MSE/runs)\n",
    "            temp_recall += (recall/runs)\n",
    "        MSEs.append(temp_MSE)\n",
    "        recalls.append(temp_recall)\n",
    "    lab = 'b = ' + str(b)\n",
    "    ax_rec.plot(L, recalls, label = lab)\n",
    "    ax_MSE.plot(L, MSEs, label = lab)\n",
    "\n",
    "\n",
    "ax_rec.set_xlim([L[0], L[-1]])\n",
    "ax_rec.set_ylim([0,0.5])\n",
    "ax_MSE.set_xlim([L[0], L[-1]])\n",
    "ax_MSE.set_ylim([0,0.5])\n",
    "ax_MSE.legend()\n",
    "ax_rec.legend()\n",
    "ax_rec.set_title('Recall Movielens')\n",
    "ax_MSE.set_title('MSE Movielens')\n",
    "ax_rec.set_xlabel('length of signature')\n",
    "ax_MSE.set_xlabel('length of signature')\n",
    "ax_MSE.set_ylabel('MSE')\n",
    "ax_rec.set_ylabel('Recall')\n"
   ]
  },
  {
   "cell_type": "markdown",
   "metadata": {},
   "source": [
    "## Different noise scale on LastFM"
   ]
  },
  {
   "cell_type": "code",
   "execution_count": 3,
   "metadata": {},
   "outputs": [
    {
     "name": "stdout",
     "output_type": "stream",
     "text": [
      "\n",
      "Generating hash signatures based on Riazzi Extension, using next_prime 2147483647 and eps = 1\n",
      "Riazzi\n",
      "theoretical jacc  0.9494563620334998\n",
      "writing b\n",
      "Done hashing\n",
      "\n",
      "Generating MinHash signatures took 20.95sec\n",
      "\n",
      "Generating hash signatures based on Riazzi Extension, using next_prime 2147483647 and eps = 1\n",
      "Riazzi\n",
      "theoretical jacc  0.9494563620334998\n",
      "writing b\n",
      "Done hashing\n",
      "\n",
      "Generating MinHash signatures took 52.83sec\n",
      "\n",
      "Generating hash signatures based on Riazzi Extension, using next_prime 2147483647 and eps = 1\n",
      "Riazzi\n",
      "theoretical jacc  0.9494563620334998\n",
      "writing b\n",
      "Done hashing\n",
      "\n",
      "Generating MinHash signatures took 22.13sec\n",
      "\n",
      "Generating hash signatures based on Riazzi Extension, using next_prime 2147483647 and eps = 1\n",
      "Riazzi\n",
      "theoretical jacc  0.9494563620334998\n",
      "writing b\n",
      "Done hashing\n",
      "\n",
      "Generating MinHash signatures took 52.29sec\n"
     ]
    },
    {
     "data": {
      "text/plain": [
       "Text(0,0.5,'REcall')"
      ]
     },
     "execution_count": 3,
     "metadata": {},
     "output_type": "execute_result"
    },
    {
     "data": {
      "image/png": "[encoded data removed]",
      "text/plain": [
       "<matplotlib.figure.Figure at 0x7f467eee98d0>"
      ]
     },
     "metadata": {},
     "output_type": "display_data"
    }
   ],
   "source": [
    "K = 1\n",
    "eps = 1\n",
    "L = [10, 50]\n",
    "beta = 0\n",
    "alpha = 0\n",
    "B = [0.1, 5]\n",
    "runs=1\n",
    "\n",
    "fig_LFM, ax_LFM = plt.subplots()\n",
    "\n",
    "for b in B:\n",
    "    recalls = []\n",
    "    for l in L:\n",
    "        temp_recall = 0\n",
    "        for i in range(runs):\n",
    "            analysis = main.main(data_lfm, JSim_lfm, 'noisy', K, l=l, b=b, eps=eps, alpha = 1, delta = 0.001)\n",
    "            precision, recall, f1 = analysis.PRF()\n",
    "            temp_recall += (recall/runs)\n",
    "        recalls.append(temp_recall)\n",
    "    lab = 'b = ' + str(b)\n",
    "    ax_LFM.plot(L, recalls, label = lab)\n",
    "\n",
    "#Plot LastFM\n",
    "ax_LFM.set_xlim([L[0], L[-1]])\n",
    "ax_LFM.set_ylim([0,0.5])\n",
    "ax_LFM.legend()\n",
    "ax_LFM.set_title('Recall LastFM')\n",
    "ax_LFM.set_xlabel('L')\n",
    "ax_LFM.set_ylabel('REcall')"
   ]
  },
  {
   "cell_type": "markdown",
   "metadata": {},
   "source": [
    "\n",
    "## Different delta Movielens"
   ]
  },
  {
   "cell_type": "code",
   "execution_count": 8,
   "metadata": {},
   "outputs": [
    {
     "name": "stdout",
     "output_type": "stream",
     "text": [
      "\n",
      "Generating hash signatures based on Riazzi Extension, using next_prime 2147483647 and eps = 5.0\n",
      "Riazzi\n",
      "theoretical jacc  0.9719227343428032\n",
      "Done hashing\n",
      "\n",
      "Generating MinHash signatures took 26.43sec\n",
      "\n",
      "Generating hash signatures based on Riazzi Extension, using next_prime 2147483647 and eps = 100.0\n",
      "Riazzi\n",
      "theoretical jacc  0.9719227343428032\n",
      "Done hashing\n",
      "\n",
      "Generating MinHash signatures took 236.79sec\n",
      "\n",
      "Generating hash signatures based on Riazzi Extension, using next_prime 2147483647 and eps = 5.0\n",
      "Riazzi\n",
      "theoretical jacc  0.9719227343428032\n",
      "Done hashing\n",
      "\n",
      "Generating MinHash signatures took 27.52sec\n",
      "\n",
      "Generating hash signatures based on Riazzi Extension, using next_prime 2147483647 and eps = 100.0\n",
      "Riazzi\n",
      "theoretical jacc  0.9719227343428032\n",
      "Done hashing\n",
      "\n",
      "Generating MinHash signatures took 232.64sec\n",
      "\n",
      "Generating hash signatures based on Riazzi Extension, using next_prime 2147483647 and eps = 5.0\n",
      "Riazzi\n",
      "theoretical jacc  0.9719227343428032\n",
      "Done hashing\n",
      "\n",
      "Generating MinHash signatures took 28.05sec\n",
      "\n",
      "Generating hash signatures based on Riazzi Extension, using next_prime 2147483647 and eps = 100.0\n",
      "Riazzi\n",
      "theoretical jacc  0.9719227343428032\n",
      "Done hashing\n",
      "\n",
      "Generating MinHash signatures took 268.26sec\n",
      "\n",
      "Generating hash signatures based on Riazzi Extension, using next_prime 2147483647 and eps = 5.0\n",
      "Riazzi\n",
      "theoretical jacc  0.9719227343428032\n",
      "Done hashing\n",
      "\n",
      "Generating MinHash signatures took 28.52sec\n",
      "\n",
      "Generating hash signatures based on Riazzi Extension, using next_prime 2147483647 and eps = 100.0\n",
      "Riazzi\n",
      "theoretical jacc  0.9719227343428032\n",
      "Done hashing\n",
      "\n",
      "Generating MinHash signatures took 274.99sec\n",
      "\n",
      "Generating hash signatures based on Riazzi Extension, using next_prime 2147483647 and eps = 5.0\n",
      "Riazzi\n",
      "theoretical jacc  0.9719227343428032\n",
      "Done hashing\n",
      "\n",
      "Generating MinHash signatures took 30.45sec\n",
      "\n",
      "Generating hash signatures based on Riazzi Extension, using next_prime 2147483647 and eps = 100.0\n",
      "Riazzi\n",
      "theoretical jacc  0.9719227343428032\n",
      "Done hashing\n",
      "\n",
      "Generating MinHash signatures took 302.53sec\n",
      "\n",
      "Generating hash signatures based on Riazzi Extension, using next_prime 2147483647 and eps = 5.0\n",
      "Riazzi\n",
      "theoretical jacc  0.9719227343428032\n",
      "Done hashing\n",
      "\n",
      "Generating MinHash signatures took 30.73sec\n",
      "\n",
      "Generating hash signatures based on Riazzi Extension, using next_prime 2147483647 and eps = 100.0\n",
      "Riazzi\n",
      "theoretical jacc  0.9719227343428032\n",
      "Done hashing\n",
      "\n",
      "Generating MinHash signatures took 302.05sec\n"
     ]
    },
    {
     "data": {
      "image/png": "[encoded data removed]",
      "text/plain": [
       "<matplotlib.figure.Figure at 0x7f8327a17d30>"
      ]
     },
     "metadata": {},
     "output_type": "display_data"
    },
    {
     "data": {
      "image/png": "[encoded data removed]",
      "text/plain": [
       "<matplotlib.figure.Figure at 0x7f832f6a7160>"
      ]
     },
     "metadata": {},
     "output_type": "display_data"
    },
    {
     "data": {
      "image/png": "[encoded data removed]",
      "text/plain": [
       "<matplotlib.figure.Figure at 0x7f832c65af28>"
      ]
     },
     "metadata": {},
     "output_type": "display_data"
    }
   ],
   "source": [
    "Ks = [1, 2, 3]\n",
    "L = [10, 200]\n",
    "cs = [1, 10000]\n",
    "alpha = 5\n",
    "runs = 1\n",
    "\n",
    "for k in Ks:\n",
    "    fig, ax = plt.subplots()\n",
    "    for c in cs:\n",
    "        recalls = []\n",
    "        for l in L:\n",
    "            temp_recall = 0\n",
    "            delta = 1/(c * l)\n",
    "            eps = l * 0.5\n",
    "            for i in range(runs):\n",
    "                analysis = main.main(data_ml, JSim_ml, 'noisy', k, l=l, alpha=alpha, eps=eps, delta=delta)\n",
    "                precision, recall, f1 = analysis.PRF()\n",
    "                temp_recall += (recall/runs)\n",
    "            recalls.append(temp_recall)\n",
    "        lab = r'$\\delta$ = 1/' + str(c) + 'K'\n",
    "        ax.plot(L, recalls, label = lab)\n",
    "        \n",
    "    ax.set_xlim([L[0], L[-1]])\n",
    "    ax.set_ylim([0,0.5])\n",
    "    ax.legend()\n",
    "    ax.set_xlabel('length of signature')\n",
    "    ax.set_ylabel('Recall') "
   ]
  },
  {
   "cell_type": "code",
   "execution_count": null,
   "metadata": {},
   "outputs": [],
   "source": []
  },
  {
   "cell_type": "markdown",
   "metadata": {},
   "source": [
    "## Different delta LastFM\n"
   ]
  },
  {
   "cell_type": "code",
   "execution_count": null,
   "metadata": {},
   "outputs": [],
   "source": []
  },
  {
   "cell_type": "markdown",
   "metadata": {},
   "source": [
    "## Noisy_secure vs noisy_reg"
   ]
  },
  {
   "cell_type": "code",
   "execution_count": 3,
   "metadata": {},
   "outputs": [
    {
     "name": "stdout",
     "output_type": "stream",
     "text": [
      "\n",
      "Generating hash signatures based on Riazzi Extension, using next_prime 2147483647 and eps = 1\n",
      "Riazzi\n",
      "theoretical jacc  0.9494563620334998\n",
      "Done hashing\n",
      "\n",
      "Generating MinHash signatures took 90.72sec\n",
      "\n",
      "Generating hash signatures based on Riazzi Extension, using next_prime 2147483647 and eps = 100\n",
      "Riazzi\n",
      "theoretical jacc  0.9494563620334998\n",
      "Done hashing\n",
      "\n",
      "Generating MinHash signatures took 89.61sec\n",
      "\n",
      "Generating hash signatures based on Noisy MinHash, using next_prime 2147483647 and eps = 1\n",
      "Done hashing\n",
      "\n",
      "Generating MinHash signatures took 123.90sec\n",
      "\n",
      "Generating hash signatures based on Noisy MinHash, using next_prime 2147483647 and eps = 100\n",
      "Done hashing\n",
      "\n",
      "Generating MinHash signatures took 123.29sec\n"
     ]
    },
    {
     "data": {
      "text/plain": [
       "Text(0,0.5,'Recall')"
      ]
     },
     "execution_count": 3,
     "metadata": {},
     "output_type": "execute_result"
    },
    {
     "data": {
      "image/png": "[encoded data removed]",
      "text/plain": [
       "<matplotlib.figure.Figure at 0x7fc04863dcf8>"
      ]
     },
     "metadata": {},
     "output_type": "display_data"
    }
   ],
   "source": [
    "K = [1]\n",
    "delta = 0.001\n",
    "length = 100\n",
    "alpha = 1\n",
    "Eps = [1, 100]\n",
    "runs = 1\n",
    "\n",
    "\n",
    "for k in K:\n",
    "    sec_recall = []\n",
    "    for eps in Eps:\n",
    "        temp_recall = 0\n",
    "        for i in range(runs):\n",
    "            analysis = main.main(data_lfm, JSim_lfm, 'noisy', k, l=length, alpha=alpha, eps=eps, delta= delta)\n",
    "            precision, recall, f1 = analysis.PRF()\n",
    "            temp_recall += recall/runs\n",
    "        sec_recall.append(temp_recall)\n",
    "    lab = 'K = ' + str(k)\n",
    "    plt.plot(Eps, sec_recall,label=lab)\n",
    "\n",
    "        \n",
    "    \n",
    "reg_recall = []\n",
    "for eps in Eps:\n",
    "    temp_recall = 0\n",
    "    for i in range(runs):\n",
    "        analysis = main.main(data_ml, JSim_ml, 'reg_noise', length, alpha=alpha, eps=eps, delta=delta)\n",
    "        precision, recall, f1 = analysis.PRF()\n",
    "        temp_recall += (recall/runs)\n",
    "    reg_recall.append(temp_recall)\n",
    "lab = 'Regular Noisy MinHash'\n",
    "plt.plot(Eps, reg_recall, label=lab)\n",
    "plt.legend()\n",
    "plt.xlabel(r'$\\epsilon$')\n",
    "plt.ylabel('Recall')\n",
    "\n"
   ]
  },
  {
   "cell_type": "code",
   "execution_count": null,
   "metadata": {},
   "outputs": [],
   "source": []
  }
 ],
 "metadata": {
  "kernelspec": {
   "display_name": "Python 3",
   "language": "python",
   "name": "python3"
  },
  "language_info": {
   "codemirror_mode": {
    "name": "ipython",
    "version": 3
   },
   "file_extension": ".py",
   "mimetype": "text/x-python",
   "name": "python",
   "nbconvert_exporter": "python",
   "pygments_lexer": "ipython3",
   "version": "3.6.7"
  },
  "toc": {
   "base_numbering": 1,
   "nav_menu": {},
   "number_sections": true,
   "sideBar": true,
   "skip_h1_title": false,
   "title_cell": "Table of Contents",
   "title_sidebar": "Contents",
   "toc_cell": false,
   "toc_position": {},
   "toc_section_display": true,
   "toc_window_display": false
  }
 },
 "nbformat": 4,
 "nbformat_minor": 2
}
